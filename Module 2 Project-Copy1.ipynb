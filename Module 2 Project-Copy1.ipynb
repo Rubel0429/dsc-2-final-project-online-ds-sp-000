{
 "cells": [
  {
   "cell_type": "markdown",
   "metadata": {},
   "source": [
    "# <center>Northwind Traders Business Exploration Project</center>"
   ]
  },
  {
   "cell_type": "markdown",
   "metadata": {},
   "source": [
    "## 1. Introduction:"
   ]
  },
  {
   "cell_type": "markdown",
   "metadata": {},
   "source": [
    "In this notebook we will test various hypotheses for a database containing sales data for Northwind Traders, a specialty foods import-export company. The table structure of the database can be seen in the diagram below:"
   ]
  },
  {
   "cell_type": "markdown",
   "metadata": {},
   "source": [
    "<img src=\"files/northwind.jpg\">"
   ]
  },
  {
   "cell_type": "markdown",
   "metadata": {},
   "source": [
    "#### 1.1 Import the Northwind database and print the table names"
   ]
  },
  {
   "cell_type": "code",
   "execution_count": 1,
   "metadata": {},
   "outputs": [
    {
     "name": "stdout",
     "output_type": "stream",
     "text": [
      "['Category', 'Customer', 'CustomerCustomerDemo', 'CustomerDemographic', 'Employee', 'EmployeeTerritory', 'Order', 'OrderDetail', 'Product', 'Region', 'Shipper', 'Supplier', 'Territory']\n"
     ]
    }
   ],
   "source": [
    "import warnings\n",
    "warnings.filterwarnings('ignore')\n",
    "import pandas as pd\n",
    "from sqlalchemy import create_engine\n",
    "engine = create_engine('sqlite:///Northwind_small.sqlite')\n",
    "table_names = engine.table_names()\n",
    "print(table_names)\n",
    "table_names = ['Category', 'Customer', 'Employee', 'Order', 'OrderDetail', 'Product', 'Region', 'Shipper', 'Supplier', 'Territory']"
   ]
  },
  {
   "cell_type": "markdown",
   "metadata": {},
   "source": [
    "#### 1.2 Print the column names for each table"
   ]
  },
  {
   "cell_type": "code",
   "execution_count": 2,
   "metadata": {},
   "outputs": [
    {
     "name": "stdout",
     "output_type": "stream",
     "text": [
      "Category:\n",
      "\n",
      "CategoryName\n",
      "Description\n",
      "Id\n",
      "__________________________\n",
      "\n",
      "Customer:\n",
      "\n",
      "Address\n",
      "City\n",
      "CompanyName\n",
      "ContactName\n",
      "ContactTitle\n",
      "Country\n",
      "Fax\n",
      "Id\n",
      "Phone\n",
      "PostalCode\n",
      "Region\n",
      "__________________________\n",
      "\n",
      "Employee:\n",
      "\n",
      "Address\n",
      "BirthDate\n",
      "City\n",
      "Country\n",
      "Extension\n",
      "FirstName\n",
      "HireDate\n",
      "HomePhone\n",
      "Id\n",
      "LastName\n",
      "Notes\n",
      "Photo\n",
      "PhotoPath\n",
      "PostalCode\n",
      "Region\n",
      "ReportsTo\n",
      "Title\n",
      "TitleOfCourtesy\n",
      "__________________________\n",
      "\n",
      "Order:\n",
      "\n",
      "CustomerId\n",
      "EmployeeId\n",
      "Freight\n",
      "Id\n",
      "OrderDate\n",
      "RequiredDate\n",
      "ShipAddress\n",
      "ShipCity\n",
      "ShipCountry\n",
      "ShipName\n",
      "ShipPostalCode\n",
      "ShipRegion\n",
      "ShipVia\n",
      "ShippedDate\n",
      "__________________________\n",
      "\n",
      "OrderDetail:\n",
      "\n",
      "Discount\n",
      "Id\n",
      "OrderId\n",
      "ProductId\n",
      "Quantity\n",
      "UnitPrice\n",
      "__________________________\n",
      "\n",
      "Product:\n",
      "\n",
      "CategoryId\n",
      "Discontinued\n",
      "Id\n",
      "ProductName\n",
      "QuantityPerUnit\n",
      "ReorderLevel\n",
      "SupplierId\n",
      "UnitPrice\n",
      "UnitsInStock\n",
      "UnitsOnOrder\n",
      "__________________________\n",
      "\n",
      "Region:\n",
      "\n",
      "Id\n",
      "RegionDescription\n",
      "__________________________\n",
      "\n",
      "Shipper:\n",
      "\n",
      "CompanyName\n",
      "Id\n",
      "Phone\n",
      "__________________________\n",
      "\n",
      "Supplier:\n",
      "\n",
      "Address\n",
      "City\n",
      "CompanyName\n",
      "ContactName\n",
      "ContactTitle\n",
      "Country\n",
      "Fax\n",
      "HomePage\n",
      "Id\n",
      "Phone\n",
      "PostalCode\n",
      "Region\n",
      "__________________________\n",
      "\n",
      "Territory:\n",
      "\n",
      "Id\n",
      "RegionId\n",
      "TerritoryDescription\n",
      "__________________________\n",
      "\n"
     ]
    }
   ],
   "source": [
    "import pprint\n",
    "import numpy as np\n",
    "for name in table_names:\n",
    "    con = engine.connect()\n",
    "    rs = con.execute(\"SELECT * FROM [\" + name +\"]\")\n",
    "    df = pd.DataFrame(rs.fetchall())\n",
    "    df.columns = rs.keys()\n",
    "    print(name + ':')\n",
    "    print()\n",
    "    print(\"\\n\".join(sorted(list(df.columns))))\n",
    "    print('__________________________')\n",
    "    print()"
   ]
  },
  {
   "cell_type": "markdown",
   "metadata": {},
   "source": [
    "***\n",
    "***\n",
    "<br>"
   ]
  },
  {
   "cell_type": "markdown",
   "metadata": {},
   "source": [
    "# 2. Question One: \n",
    "## Do discounts have a statistically significant effect on the number of products customers order? If so, at what level(s) of discount?"
   ]
  },
  {
   "cell_type": "markdown",
   "metadata": {},
   "source": [
    "***\n",
    "#### 2.1 Hypothesis Test:"
   ]
  },
  {
   "cell_type": "markdown",
   "metadata": {},
   "source": [
    "Null Hypothesis &nbsp; ($H_{0}$): &emsp;&emsp;&emsp;&emsp;&ensp; $μ_{Discount}$&ensp;=&ensp;$μ_{NoDiscount}$<br><br>Alternative Hypothesis &nbsp; ($H_{a}$):&emsp;&ensp;&ensp; $μ_{Discount}$&ensp;≠&ensp;$μ_{NoDiscount}$"
   ]
  },
  {
   "cell_type": "markdown",
   "metadata": {},
   "source": [
    "The μ in the hypothesis above references the mean number of products purchased for orders placed with and without a discount. For this hypothesis test, we will be using a significance level ($\\alpha$) to 0.05 or 5%."
   ]
  },
  {
   "cell_type": "markdown",
   "metadata": {},
   "source": [
    "#### 2.2 Create Dataframe of pertinent information:"
   ]
  },
  {
   "cell_type": "code",
   "execution_count": 3,
   "metadata": {},
   "outputs": [
    {
     "data": {
      "text/html": [
       "<div>\n",
       "<style scoped>\n",
       "    .dataframe tbody tr th:only-of-type {\n",
       "        vertical-align: middle;\n",
       "    }\n",
       "\n",
       "    .dataframe tbody tr th {\n",
       "        vertical-align: top;\n",
       "    }\n",
       "\n",
       "    .dataframe thead th {\n",
       "        text-align: right;\n",
       "    }\n",
       "</style>\n",
       "<table border=\"1\" class=\"dataframe\">\n",
       "  <thead>\n",
       "    <tr style=\"text-align: right;\">\n",
       "      <th></th>\n",
       "      <th>Quantity</th>\n",
       "      <th>Discount</th>\n",
       "    </tr>\n",
       "  </thead>\n",
       "  <tbody>\n",
       "    <tr>\n",
       "      <th>0</th>\n",
       "      <td>12</td>\n",
       "      <td>0.0</td>\n",
       "    </tr>\n",
       "    <tr>\n",
       "      <th>1</th>\n",
       "      <td>10</td>\n",
       "      <td>0.0</td>\n",
       "    </tr>\n",
       "    <tr>\n",
       "      <th>2</th>\n",
       "      <td>5</td>\n",
       "      <td>0.0</td>\n",
       "    </tr>\n",
       "    <tr>\n",
       "      <th>3</th>\n",
       "      <td>9</td>\n",
       "      <td>0.0</td>\n",
       "    </tr>\n",
       "    <tr>\n",
       "      <th>4</th>\n",
       "      <td>40</td>\n",
       "      <td>0.0</td>\n",
       "    </tr>\n",
       "  </tbody>\n",
       "</table>\n",
       "</div>"
      ],
      "text/plain": [
       "   Quantity  Discount\n",
       "0        12       0.0\n",
       "1        10       0.0\n",
       "2         5       0.0\n",
       "3         9       0.0\n",
       "4        40       0.0"
      ]
     },
     "execution_count": 3,
     "metadata": {},
     "output_type": "execute_result"
    }
   ],
   "source": [
    "con = engine.connect()\n",
    "rs = con.execute(\"SELECT * FROM [OrderDetail]\")\n",
    "df_OD = pd.DataFrame(rs.fetchall()) \n",
    "df_OD.columns = rs.keys()\n",
    "df1 = df_OD[['Quantity','Discount']]\n",
    "df1.head()"
   ]
  },
  {
   "cell_type": "markdown",
   "metadata": {},
   "source": [
    "#### 2.3 Check parametric-test assumptions:"
   ]
  },
  {
   "cell_type": "markdown",
   "metadata": {},
   "source": [
    "1. The data is continuous.\n",
    "2. The data is normally distributed.\n",
    "3. The two samples are independent of eachother.\n",
    "4. Both samples are simple random samples from their respective populations.\n",
    "5. The variances of the two populations are equal."
   ]
  },
  {
   "cell_type": "code",
   "execution_count": 4,
   "metadata": {},
   "outputs": [
    {
     "data": {
      "image/png": "[encoded data removed]",
      "text/plain": [
       "<Figure size 432x288 with 1 Axes>"
      ]
     },
     "metadata": {
      "needs_background": "light"
     },
     "output_type": "display_data"
    },
    {
     "data": {
      "image/png": "[encoded data removed]",
      "text/plain": [
       "<Figure size 432x288 with 1 Axes>"
      ]
     },
     "metadata": {
      "needs_background": "light"
     },
     "output_type": "display_data"
    }
   ],
   "source": [
    "# Create histograms to check for continuity and normality\n",
    "from numpy.random import seed\n",
    "import matplotlib.pyplot as plt\n",
    "%matplotlib inline\n",
    "# seed the random number generator\n",
    "seed(1)\n",
    "# histogram plot\n",
    "plt.hist(df1['Quantity'], bins=25)\n",
    "plt.show();\n",
    "plt.hist(df1['Discount'])\n",
    "plt.show();"
   ]
  },
  {
   "cell_type": "code",
   "execution_count": 5,
   "metadata": {},
   "outputs": [
    {
     "data": {
      "image/png": "[encoded data removed]",
      "text/plain": [
       "<Figure size 432x288 with 1 Axes>"
      ]
     },
     "metadata": {
      "needs_background": "light"
     },
     "output_type": "display_data"
    },
    {
     "data": {
      "image/png": "[encoded data removed]",
      "text/plain": [
       "<Figure size 432x288 with 1 Axes>"
      ]
     },
     "metadata": {
      "needs_background": "light"
     },
     "output_type": "display_data"
    }
   ],
   "source": [
    "# Create QQ Plots to further check normality\n",
    "from statsmodels.graphics.gofplots import qqplot\n",
    "qqplot(df1['Quantity'], line='s')\n",
    "plt.show()\n",
    "qqplot(df1['Discount'], line='s')\n",
    "plt.show()"
   ]
  },
  {
   "cell_type": "markdown",
   "metadata": {},
   "source": [
    "The independent variable (level of discount) is clearly discrete, but as long as the dependent variable can be considered continous, the first assumption is met. "
   ]
  },
  {
   "cell_type": "markdown",
   "metadata": {},
   "source": [
    "In addition, both the independent and dependent variables are skewed, but the Central Limit Theorem allows for the second assumption to be met. The Central Limit Theorem states the sample means of moderately large samples (n>100) are often well-approximated by a normal distribution even if the populations are not normally distributed."
   ]
  },
  {
   "cell_type": "markdown",
   "metadata": {},
   "source": [
    "The two samples are independent and randomly taken, so assumptions three and four are met."
   ]
  },
  {
   "cell_type": "code",
   "execution_count": 6,
   "metadata": {},
   "outputs": [
    {
     "name": "stdout",
     "output_type": "stream",
     "text": [
      "Discount Variance:  431.0\n",
      "No-Discount Variance:  306.0\n"
     ]
    }
   ],
   "source": [
    "Discount_list = list(df1.loc[df1['Discount'] != 0.0]['Quantity'])\n",
    "No_Discount_list = list(df1.loc[df1['Discount'] == 0.0]['Quantity'])\n",
    "print('Discount Variance: ',str(round(np.var(Discount_list))))\n",
    "print('No-Discount Variance: ',str(round(np.var(No_Discount_list))))"
   ]
  },
  {
   "cell_type": "markdown",
   "metadata": {},
   "source": [
    "The variances of the two populations ar not equal. Although the fifth assumption is not met, we can still use Welch's t-test, or the unequal variances t-test."
   ]
  },
  {
   "cell_type": "markdown",
   "metadata": {},
   "source": [
    "#### 2.4 Chi-Squared Independence Test"
   ]
  },
  {
   "cell_type": "markdown",
   "metadata": {},
   "source": [
    "The chi-square independence test will be employed to first test if the quantity and discount variables are related in the population."
   ]
  },
  {
   "cell_type": "code",
   "execution_count": 7,
   "metadata": {},
   "outputs": [
    {
     "name": "stdout",
     "output_type": "stream",
     "text": [
      "838 1317\n"
     ]
    }
   ],
   "source": [
    "# Separate the dataframe into two groups (Discount and No-Discount)\n",
    "Quantities = list(df1['Quantity'].unique())\n",
    "Quantities.sort()\n",
    "df_Dis = df1.loc[df1['Discount'] > 0]\n",
    "df_No_Dis = df1.loc[df1['Discount'] == 0]\n",
    "print(len(df_Dis),len(df_No_Dis))"
   ]
  },
  {
   "cell_type": "code",
   "execution_count": 8,
   "metadata": {},
   "outputs": [],
   "source": [
    "# Count the number of times each quantity appears in the No-Discount data\n",
    "from collections import Counter \n",
    "cnt = Counter()\n",
    "for quantity in df_No_Dis['Quantity']:\n",
    "    cnt[quantity] += 1"
   ]
  },
  {
   "cell_type": "code",
   "execution_count": 9,
   "metadata": {},
   "outputs": [
    {
     "data": {
      "text/plain": [
       "1317"
      ]
     },
     "execution_count": 9,
     "metadata": {},
     "output_type": "execute_result"
    }
   ],
   "source": [
    "# Create new testing dataframe and add a row containing the No-Discount counts\n",
    "df_new = pd.DataFrame(columns = Quantities)\n",
    "\n",
    "for q in Quantities:\n",
    "    for c in cnt.keys():\n",
    "        if q == c:\n",
    "            df_new.loc[df1.index[0], q] = cnt[c]\n",
    "df_new.loc[df_new.index[0]].sum()"
   ]
  },
  {
   "cell_type": "code",
   "execution_count": 10,
   "metadata": {},
   "outputs": [
    {
     "data": {
      "text/html": [
       "<div>\n",
       "<style scoped>\n",
       "    .dataframe tbody tr th:only-of-type {\n",
       "        vertical-align: middle;\n",
       "    }\n",
       "\n",
       "    .dataframe tbody tr th {\n",
       "        vertical-align: top;\n",
       "    }\n",
       "\n",
       "    .dataframe thead th {\n",
       "        text-align: right;\n",
       "    }\n",
       "</style>\n",
       "<table border=\"1\" class=\"dataframe\">\n",
       "  <thead>\n",
       "    <tr style=\"text-align: right;\">\n",
       "      <th></th>\n",
       "      <th>1</th>\n",
       "      <th>2</th>\n",
       "      <th>3</th>\n",
       "      <th>4</th>\n",
       "      <th>5</th>\n",
       "      <th>6</th>\n",
       "      <th>7</th>\n",
       "      <th>8</th>\n",
       "      <th>9</th>\n",
       "      <th>10</th>\n",
       "      <th>...</th>\n",
       "      <th>70</th>\n",
       "      <th>77</th>\n",
       "      <th>80</th>\n",
       "      <th>84</th>\n",
       "      <th>90</th>\n",
       "      <th>91</th>\n",
       "      <th>100</th>\n",
       "      <th>110</th>\n",
       "      <th>120</th>\n",
       "      <th>130</th>\n",
       "    </tr>\n",
       "  </thead>\n",
       "  <tbody>\n",
       "    <tr>\n",
       "      <th>0</th>\n",
       "      <td>13</td>\n",
       "      <td>30</td>\n",
       "      <td>34</td>\n",
       "      <td>39</td>\n",
       "      <td>53</td>\n",
       "      <td>62</td>\n",
       "      <td>17</td>\n",
       "      <td>29</td>\n",
       "      <td>22</td>\n",
       "      <td>130</td>\n",
       "      <td>...</td>\n",
       "      <td>10</td>\n",
       "      <td>1</td>\n",
       "      <td>6</td>\n",
       "      <td>NaN</td>\n",
       "      <td>1</td>\n",
       "      <td>1</td>\n",
       "      <td>4</td>\n",
       "      <td>3</td>\n",
       "      <td>3</td>\n",
       "      <td>1</td>\n",
       "    </tr>\n",
       "    <tr>\n",
       "      <th>1</th>\n",
       "      <td>4</td>\n",
       "      <td>22</td>\n",
       "      <td>12</td>\n",
       "      <td>16</td>\n",
       "      <td>14</td>\n",
       "      <td>25</td>\n",
       "      <td>6</td>\n",
       "      <td>21</td>\n",
       "      <td>8</td>\n",
       "      <td>51</td>\n",
       "      <td>...</td>\n",
       "      <td>18</td>\n",
       "      <td>2</td>\n",
       "      <td>10</td>\n",
       "      <td>2</td>\n",
       "      <td>3</td>\n",
       "      <td>NaN</td>\n",
       "      <td>6</td>\n",
       "      <td>NaN</td>\n",
       "      <td>5</td>\n",
       "      <td>1</td>\n",
       "    </tr>\n",
       "  </tbody>\n",
       "</table>\n",
       "<p>2 rows × 55 columns</p>\n",
       "</div>"
      ],
      "text/plain": [
       "  1   2   3   4   5   6   7   8   9    10  ... 70  77  80   84  90   91  100  \\\n",
       "0  13  30  34  39  53  62  17  29  22  130 ...  10   1   6  NaN   1    1   4   \n",
       "1   4  22  12  16  14  25   6  21   8   51 ...  18   2  10    2   3  NaN   6   \n",
       "\n",
       "   110 120 130  \n",
       "0    3   3   1  \n",
       "1  NaN   5   1  \n",
       "\n",
       "[2 rows x 55 columns]"
      ]
     },
     "execution_count": 10,
     "metadata": {},
     "output_type": "execute_result"
    }
   ],
   "source": [
    "# Add a second row containing the Discount counts and show the new test dataframe\n",
    "cnt2 = Counter()\n",
    "for quantity in df_Dis['Quantity']:\n",
    "    cnt2[quantity] += 1\n",
    "\n",
    "for q in Quantities:\n",
    "    for c in cnt2.keys():\n",
    "        if q == c:\n",
    "            df_new.loc[df1.index[1], q] = cnt2[c]\n",
    "df_new"
   ]
  },
  {
   "cell_type": "code",
   "execution_count": 11,
   "metadata": {},
   "outputs": [
    {
     "data": {
      "text/html": [
       "<div>\n",
       "<style scoped>\n",
       "    .dataframe tbody tr th:only-of-type {\n",
       "        vertical-align: middle;\n",
       "    }\n",
       "\n",
       "    .dataframe tbody tr th {\n",
       "        vertical-align: top;\n",
       "    }\n",
       "\n",
       "    .dataframe thead th {\n",
       "        text-align: right;\n",
       "    }\n",
       "</style>\n",
       "<table border=\"1\" class=\"dataframe\">\n",
       "  <thead>\n",
       "    <tr style=\"text-align: right;\">\n",
       "      <th></th>\n",
       "      <th>1</th>\n",
       "      <th>2</th>\n",
       "      <th>3</th>\n",
       "      <th>4</th>\n",
       "      <th>5</th>\n",
       "      <th>6</th>\n",
       "      <th>7</th>\n",
       "      <th>8</th>\n",
       "      <th>9</th>\n",
       "      <th>10</th>\n",
       "      <th>11</th>\n",
       "      <th>12</th>\n",
       "      <th>13</th>\n",
       "      <th>14</th>\n",
       "      <th>15</th>\n",
       "      <th>16</th>\n",
       "      <th>18</th>\n",
       "      <th>20</th>\n",
       "      <th>21</th>\n",
       "      <th>22</th>\n",
       "      <th>24</th>\n",
       "      <th>25</th>\n",
       "      <th>27</th>\n",
       "      <th>28</th>\n",
       "      <th>30</th>\n",
       "      <th>32</th>\n",
       "      <th>33</th>\n",
       "      <th>35</th>\n",
       "      <th>36</th>\n",
       "      <th>39</th>\n",
       "      <th>40</th>\n",
       "      <th>42</th>\n",
       "      <th>44</th>\n",
       "      <th>45</th>\n",
       "      <th>48</th>\n",
       "      <th>49</th>\n",
       "      <th>50</th>\n",
       "      <th>52</th>\n",
       "      <th>54</th>\n",
       "      <th>55</th>\n",
       "      <th>56</th>\n",
       "      <th>60</th>\n",
       "      <th>63</th>\n",
       "      <th>65</th>\n",
       "      <th>66</th>\n",
       "      <th>70</th>\n",
       "      <th>77</th>\n",
       "      <th>80</th>\n",
       "      <th>84</th>\n",
       "      <th>90</th>\n",
       "      <th>91</th>\n",
       "      <th>100</th>\n",
       "      <th>110</th>\n",
       "      <th>120</th>\n",
       "      <th>130</th>\n",
       "    </tr>\n",
       "  </thead>\n",
       "  <tbody>\n",
       "    <tr>\n",
       "      <th>0</th>\n",
       "      <td>13</td>\n",
       "      <td>30</td>\n",
       "      <td>34</td>\n",
       "      <td>39</td>\n",
       "      <td>53</td>\n",
       "      <td>62</td>\n",
       "      <td>17</td>\n",
       "      <td>29</td>\n",
       "      <td>22</td>\n",
       "      <td>130</td>\n",
       "      <td>0</td>\n",
       "      <td>57</td>\n",
       "      <td>1</td>\n",
       "      <td>28</td>\n",
       "      <td>100</td>\n",
       "      <td>21</td>\n",
       "      <td>24</td>\n",
       "      <td>154</td>\n",
       "      <td>30</td>\n",
       "      <td>1</td>\n",
       "      <td>36</td>\n",
       "      <td>44</td>\n",
       "      <td>0</td>\n",
       "      <td>18</td>\n",
       "      <td>122</td>\n",
       "      <td>3</td>\n",
       "      <td>1</td>\n",
       "      <td>42</td>\n",
       "      <td>9</td>\n",
       "      <td>2</td>\n",
       "      <td>60</td>\n",
       "      <td>8</td>\n",
       "      <td>2</td>\n",
       "      <td>9</td>\n",
       "      <td>3</td>\n",
       "      <td>3</td>\n",
       "      <td>40</td>\n",
       "      <td>1</td>\n",
       "      <td>0</td>\n",
       "      <td>4</td>\n",
       "      <td>1</td>\n",
       "      <td>30</td>\n",
       "      <td>1</td>\n",
       "      <td>3</td>\n",
       "      <td>0</td>\n",
       "      <td>10</td>\n",
       "      <td>1</td>\n",
       "      <td>6</td>\n",
       "      <td>0</td>\n",
       "      <td>1</td>\n",
       "      <td>1</td>\n",
       "      <td>4</td>\n",
       "      <td>3</td>\n",
       "      <td>3</td>\n",
       "      <td>1</td>\n",
       "    </tr>\n",
       "    <tr>\n",
       "      <th>1</th>\n",
       "      <td>4</td>\n",
       "      <td>22</td>\n",
       "      <td>12</td>\n",
       "      <td>16</td>\n",
       "      <td>14</td>\n",
       "      <td>25</td>\n",
       "      <td>6</td>\n",
       "      <td>21</td>\n",
       "      <td>8</td>\n",
       "      <td>51</td>\n",
       "      <td>2</td>\n",
       "      <td>35</td>\n",
       "      <td>2</td>\n",
       "      <td>8</td>\n",
       "      <td>69</td>\n",
       "      <td>14</td>\n",
       "      <td>23</td>\n",
       "      <td>98</td>\n",
       "      <td>20</td>\n",
       "      <td>0</td>\n",
       "      <td>22</td>\n",
       "      <td>36</td>\n",
       "      <td>2</td>\n",
       "      <td>11</td>\n",
       "      <td>72</td>\n",
       "      <td>2</td>\n",
       "      <td>1</td>\n",
       "      <td>29</td>\n",
       "      <td>12</td>\n",
       "      <td>0</td>\n",
       "      <td>53</td>\n",
       "      <td>11</td>\n",
       "      <td>2</td>\n",
       "      <td>5</td>\n",
       "      <td>2</td>\n",
       "      <td>4</td>\n",
       "      <td>35</td>\n",
       "      <td>0</td>\n",
       "      <td>1</td>\n",
       "      <td>5</td>\n",
       "      <td>2</td>\n",
       "      <td>28</td>\n",
       "      <td>0</td>\n",
       "      <td>5</td>\n",
       "      <td>1</td>\n",
       "      <td>18</td>\n",
       "      <td>2</td>\n",
       "      <td>10</td>\n",
       "      <td>2</td>\n",
       "      <td>3</td>\n",
       "      <td>0</td>\n",
       "      <td>6</td>\n",
       "      <td>0</td>\n",
       "      <td>5</td>\n",
       "      <td>1</td>\n",
       "    </tr>\n",
       "  </tbody>\n",
       "</table>\n",
       "</div>"
      ],
      "text/plain": [
       "   1    2    3    4    5    6    7    8    9    10   11   12   13   14   15   \\\n",
       "0   13   30   34   39   53   62   17   29   22  130    0   57    1   28  100   \n",
       "1    4   22   12   16   14   25    6   21    8   51    2   35    2    8   69   \n",
       "\n",
       "   16   18   20   21   22   24   25   27   28   30   32   33   35   36   39   \\\n",
       "0   21   24  154   30    1   36   44    0   18  122    3    1   42    9    2   \n",
       "1   14   23   98   20    0   22   36    2   11   72    2    1   29   12    0   \n",
       "\n",
       "   40   42   44   45   48   49   50   52   54   55   56   60   63   65   66   \\\n",
       "0   60    8    2    9    3    3   40    1    0    4    1   30    1    3    0   \n",
       "1   53   11    2    5    2    4   35    0    1    5    2   28    0    5    1   \n",
       "\n",
       "   70   77   80   84   90   91   100  110  120  130  \n",
       "0   10    1    6    0    1    1    4    3    3    1  \n",
       "1   18    2   10    2    3    0    6    0    5    1  "
      ]
     },
     "execution_count": 11,
     "metadata": {},
     "output_type": "execute_result"
    }
   ],
   "source": [
    "# Fill missing values with zeroes\n",
    "pd.set_option('display.max_columns', 100)\n",
    "df_new.fillna(0, inplace=True)\n",
    "df_new"
   ]
  },
  {
   "cell_type": "code",
   "execution_count": 12,
   "metadata": {},
   "outputs": [
    {
     "data": {
      "text/html": [
       "<div>\n",
       "<style scoped>\n",
       "    .dataframe tbody tr th:only-of-type {\n",
       "        vertical-align: middle;\n",
       "    }\n",
       "\n",
       "    .dataframe tbody tr th {\n",
       "        vertical-align: top;\n",
       "    }\n",
       "\n",
       "    .dataframe thead th {\n",
       "        text-align: right;\n",
       "    }\n",
       "</style>\n",
       "<table border=\"1\" class=\"dataframe\">\n",
       "  <thead>\n",
       "    <tr style=\"text-align: right;\">\n",
       "      <th></th>\n",
       "      <th>1</th>\n",
       "      <th>2</th>\n",
       "      <th>3</th>\n",
       "      <th>4</th>\n",
       "      <th>5</th>\n",
       "      <th>6</th>\n",
       "      <th>7</th>\n",
       "      <th>8</th>\n",
       "      <th>9</th>\n",
       "      <th>10</th>\n",
       "      <th>12</th>\n",
       "      <th>14</th>\n",
       "      <th>15</th>\n",
       "      <th>16</th>\n",
       "      <th>18</th>\n",
       "      <th>20</th>\n",
       "      <th>21</th>\n",
       "      <th>24</th>\n",
       "      <th>25</th>\n",
       "      <th>28</th>\n",
       "      <th>30</th>\n",
       "      <th>35</th>\n",
       "      <th>36</th>\n",
       "      <th>40</th>\n",
       "      <th>42</th>\n",
       "      <th>45</th>\n",
       "      <th>50</th>\n",
       "      <th>55</th>\n",
       "      <th>60</th>\n",
       "      <th>65</th>\n",
       "      <th>70</th>\n",
       "      <th>80</th>\n",
       "      <th>100</th>\n",
       "      <th>120</th>\n",
       "    </tr>\n",
       "  </thead>\n",
       "  <tbody>\n",
       "    <tr>\n",
       "      <th>0</th>\n",
       "      <td>13</td>\n",
       "      <td>30</td>\n",
       "      <td>34</td>\n",
       "      <td>39</td>\n",
       "      <td>53</td>\n",
       "      <td>62</td>\n",
       "      <td>17</td>\n",
       "      <td>29</td>\n",
       "      <td>22</td>\n",
       "      <td>130</td>\n",
       "      <td>57</td>\n",
       "      <td>28</td>\n",
       "      <td>100</td>\n",
       "      <td>21</td>\n",
       "      <td>24</td>\n",
       "      <td>154</td>\n",
       "      <td>30</td>\n",
       "      <td>36</td>\n",
       "      <td>44</td>\n",
       "      <td>18</td>\n",
       "      <td>122</td>\n",
       "      <td>42</td>\n",
       "      <td>9</td>\n",
       "      <td>60</td>\n",
       "      <td>8</td>\n",
       "      <td>9</td>\n",
       "      <td>40</td>\n",
       "      <td>4</td>\n",
       "      <td>30</td>\n",
       "      <td>3</td>\n",
       "      <td>10</td>\n",
       "      <td>6</td>\n",
       "      <td>4</td>\n",
       "      <td>3</td>\n",
       "    </tr>\n",
       "    <tr>\n",
       "      <th>1</th>\n",
       "      <td>4</td>\n",
       "      <td>22</td>\n",
       "      <td>12</td>\n",
       "      <td>16</td>\n",
       "      <td>14</td>\n",
       "      <td>25</td>\n",
       "      <td>6</td>\n",
       "      <td>21</td>\n",
       "      <td>8</td>\n",
       "      <td>51</td>\n",
       "      <td>35</td>\n",
       "      <td>8</td>\n",
       "      <td>69</td>\n",
       "      <td>14</td>\n",
       "      <td>23</td>\n",
       "      <td>98</td>\n",
       "      <td>20</td>\n",
       "      <td>22</td>\n",
       "      <td>36</td>\n",
       "      <td>11</td>\n",
       "      <td>72</td>\n",
       "      <td>29</td>\n",
       "      <td>12</td>\n",
       "      <td>53</td>\n",
       "      <td>11</td>\n",
       "      <td>5</td>\n",
       "      <td>35</td>\n",
       "      <td>5</td>\n",
       "      <td>28</td>\n",
       "      <td>5</td>\n",
       "      <td>18</td>\n",
       "      <td>10</td>\n",
       "      <td>6</td>\n",
       "      <td>5</td>\n",
       "    </tr>\n",
       "  </tbody>\n",
       "</table>\n",
       "</div>"
      ],
      "text/plain": [
       "   1    2    3    4    5    6    7    8    9    10   12   14   15   16   18   \\\n",
       "0   13   30   34   39   53   62   17   29   22  130   57   28  100   21   24   \n",
       "1    4   22   12   16   14   25    6   21    8   51   35    8   69   14   23   \n",
       "\n",
       "   20   21   24   25   28   30   35   36   40   42   45   50   55   60   65   \\\n",
       "0  154   30   36   44   18  122   42    9   60    8    9   40    4   30    3   \n",
       "1   98   20   22   36   11   72   29   12   53   11    5   35    5   28    5   \n",
       "\n",
       "   70   80   100  120  \n",
       "0   10    6    4    3  \n",
       "1   18   10    6    5  "
      ]
     },
     "execution_count": 12,
     "metadata": {},
     "output_type": "execute_result"
    }
   ],
   "source": [
    "# To ensure validity of the Chi-Squared test, columns containg values that are both less than 5 are removed\n",
    "for column in df_new:\n",
    "    if (df_new[column][0] < 5) & (df_new[column][1] < 5):\n",
    "        df_new.drop(column,axis=1,inplace=True)\n",
    "df_new"
   ]
  },
  {
   "cell_type": "code",
   "execution_count": 13,
   "metadata": {},
   "outputs": [
    {
     "name": "stdout",
     "output_type": "stream",
     "text": [
      "Chi Squared Statistic:  72.02930176656024\n",
      "Degrees of Freedom:  33\n",
      "P-Value:  0.00010001005316213599\n"
     ]
    }
   ],
   "source": [
    "# Run Chi-Squared Independence Test for the contigency table\n",
    "from scipy.stats import chi2_contingency\n",
    "x = list(df_new.iloc[0]), list(df_new.iloc[1])\n",
    "obs = np.array(x)\n",
    "print(\"Chi Squared Statistic: \", chi2_contingency(obs)[0])\n",
    "print(\"Degrees of Freedom: \", chi2_contingency(obs)[2])\n",
    "print(\"P-Value: \", chi2_contingency(obs)[1])"
   ]
  },
  {
   "cell_type": "markdown",
   "metadata": {},
   "source": [
    "The P-vale us well below our alpha value (0.05), so we can say there is a statistically significant relationship between the quantity and discount of an order. We will next use Welch's T-Test and ANOVA testing to further explore this relationship."
   ]
  },
  {
   "cell_type": "markdown",
   "metadata": {},
   "source": [
    "#### 2.5 Welch's T-Test"
   ]
  },
  {
   "cell_type": "code",
   "execution_count": 14,
   "metadata": {},
   "outputs": [
    {
     "data": {
      "text/plain": [
       "Ttest_indResult(statistic=6.239069142123973, pvalue=5.65641429030433e-10)"
      ]
     },
     "execution_count": 14,
     "metadata": {},
     "output_type": "execute_result"
    }
   ],
   "source": [
    "# Run Welch's T-Test by setting equal_var = False\n",
    "import scipy.stats as stat\n",
    "stat.ttest_ind(list(df_Dis['Quantity']),list(df_No_Dis['Quantity']), equal_var=False)"
   ]
  },
  {
   "cell_type": "markdown",
   "metadata": {},
   "source": [
    "The P-Value for the Welch's T-Test is also below our significance level of 0.05. We can then reject the null hypothesis and say the mean quantity of orders with a discount is not equal to the mean quantity of orders without a discount."
   ]
  },
  {
   "cell_type": "markdown",
   "metadata": {},
   "source": [
    "#### 2.6 Multiple Comparison Analysis Testing in ANOVA"
   ]
  },
  {
   "cell_type": "code",
   "execution_count": 15,
   "metadata": {},
   "outputs": [
    {
     "data": {
      "text/html": [
       "<div>\n",
       "<style scoped>\n",
       "    .dataframe tbody tr th:only-of-type {\n",
       "        vertical-align: middle;\n",
       "    }\n",
       "\n",
       "    .dataframe tbody tr th {\n",
       "        vertical-align: top;\n",
       "    }\n",
       "\n",
       "    .dataframe thead th {\n",
       "        text-align: right;\n",
       "    }\n",
       "</style>\n",
       "<table border=\"1\" class=\"dataframe\">\n",
       "  <thead>\n",
       "    <tr style=\"text-align: right;\">\n",
       "      <th></th>\n",
       "      <th>count</th>\n",
       "      <th>mean</th>\n",
       "      <th>std</th>\n",
       "      <th>min</th>\n",
       "      <th>25%</th>\n",
       "      <th>50%</th>\n",
       "      <th>75%</th>\n",
       "      <th>max</th>\n",
       "    </tr>\n",
       "    <tr>\n",
       "      <th>Discount</th>\n",
       "      <th></th>\n",
       "      <th></th>\n",
       "      <th></th>\n",
       "      <th></th>\n",
       "      <th></th>\n",
       "      <th></th>\n",
       "      <th></th>\n",
       "      <th></th>\n",
       "    </tr>\n",
       "  </thead>\n",
       "  <tbody>\n",
       "    <tr>\n",
       "      <th>0.00</th>\n",
       "      <td>1317.0</td>\n",
       "      <td>21.715262</td>\n",
       "      <td>17.507493</td>\n",
       "      <td>1.0</td>\n",
       "      <td>10.0</td>\n",
       "      <td>18.0</td>\n",
       "      <td>30.0</td>\n",
       "      <td>130.0</td>\n",
       "    </tr>\n",
       "    <tr>\n",
       "      <th>0.01</th>\n",
       "      <td>1.0</td>\n",
       "      <td>2.000000</td>\n",
       "      <td>NaN</td>\n",
       "      <td>2.0</td>\n",
       "      <td>2.0</td>\n",
       "      <td>2.0</td>\n",
       "      <td>2.0</td>\n",
       "      <td>2.0</td>\n",
       "    </tr>\n",
       "    <tr>\n",
       "      <th>0.02</th>\n",
       "      <td>2.0</td>\n",
       "      <td>2.000000</td>\n",
       "      <td>1.414214</td>\n",
       "      <td>1.0</td>\n",
       "      <td>1.5</td>\n",
       "      <td>2.0</td>\n",
       "      <td>2.5</td>\n",
       "      <td>3.0</td>\n",
       "    </tr>\n",
       "    <tr>\n",
       "      <th>0.03</th>\n",
       "      <td>3.0</td>\n",
       "      <td>1.666667</td>\n",
       "      <td>0.577350</td>\n",
       "      <td>1.0</td>\n",
       "      <td>1.5</td>\n",
       "      <td>2.0</td>\n",
       "      <td>2.0</td>\n",
       "      <td>2.0</td>\n",
       "    </tr>\n",
       "    <tr>\n",
       "      <th>0.04</th>\n",
       "      <td>1.0</td>\n",
       "      <td>1.000000</td>\n",
       "      <td>NaN</td>\n",
       "      <td>1.0</td>\n",
       "      <td>1.0</td>\n",
       "      <td>1.0</td>\n",
       "      <td>1.0</td>\n",
       "      <td>1.0</td>\n",
       "    </tr>\n",
       "    <tr>\n",
       "      <th>0.05</th>\n",
       "      <td>185.0</td>\n",
       "      <td>28.010811</td>\n",
       "      <td>22.187685</td>\n",
       "      <td>1.0</td>\n",
       "      <td>14.0</td>\n",
       "      <td>20.0</td>\n",
       "      <td>40.0</td>\n",
       "      <td>120.0</td>\n",
       "    </tr>\n",
       "    <tr>\n",
       "      <th>0.06</th>\n",
       "      <td>1.0</td>\n",
       "      <td>2.000000</td>\n",
       "      <td>NaN</td>\n",
       "      <td>2.0</td>\n",
       "      <td>2.0</td>\n",
       "      <td>2.0</td>\n",
       "      <td>2.0</td>\n",
       "      <td>2.0</td>\n",
       "    </tr>\n",
       "    <tr>\n",
       "      <th>0.10</th>\n",
       "      <td>173.0</td>\n",
       "      <td>25.236994</td>\n",
       "      <td>21.186503</td>\n",
       "      <td>2.0</td>\n",
       "      <td>10.0</td>\n",
       "      <td>20.0</td>\n",
       "      <td>30.0</td>\n",
       "      <td>130.0</td>\n",
       "    </tr>\n",
       "    <tr>\n",
       "      <th>0.15</th>\n",
       "      <td>157.0</td>\n",
       "      <td>28.382166</td>\n",
       "      <td>20.923099</td>\n",
       "      <td>2.0</td>\n",
       "      <td>15.0</td>\n",
       "      <td>21.0</td>\n",
       "      <td>40.0</td>\n",
       "      <td>100.0</td>\n",
       "    </tr>\n",
       "    <tr>\n",
       "      <th>0.20</th>\n",
       "      <td>161.0</td>\n",
       "      <td>27.024845</td>\n",
       "      <td>18.832801</td>\n",
       "      <td>2.0</td>\n",
       "      <td>12.0</td>\n",
       "      <td>21.0</td>\n",
       "      <td>40.0</td>\n",
       "      <td>100.0</td>\n",
       "    </tr>\n",
       "    <tr>\n",
       "      <th>0.25</th>\n",
       "      <td>154.0</td>\n",
       "      <td>28.240260</td>\n",
       "      <td>20.120570</td>\n",
       "      <td>2.0</td>\n",
       "      <td>15.0</td>\n",
       "      <td>25.0</td>\n",
       "      <td>36.0</td>\n",
       "      <td>120.0</td>\n",
       "    </tr>\n",
       "  </tbody>\n",
       "</table>\n",
       "</div>"
      ],
      "text/plain": [
       "           count       mean        std  min   25%   50%   75%    max\n",
       "Discount                                                            \n",
       "0.00      1317.0  21.715262  17.507493  1.0  10.0  18.0  30.0  130.0\n",
       "0.01         1.0   2.000000        NaN  2.0   2.0   2.0   2.0    2.0\n",
       "0.02         2.0   2.000000   1.414214  1.0   1.5   2.0   2.5    3.0\n",
       "0.03         3.0   1.666667   0.577350  1.0   1.5   2.0   2.0    2.0\n",
       "0.04         1.0   1.000000        NaN  1.0   1.0   1.0   1.0    1.0\n",
       "0.05       185.0  28.010811  22.187685  1.0  14.0  20.0  40.0  120.0\n",
       "0.06         1.0   2.000000        NaN  2.0   2.0   2.0   2.0    2.0\n",
       "0.10       173.0  25.236994  21.186503  2.0  10.0  20.0  30.0  130.0\n",
       "0.15       157.0  28.382166  20.923099  2.0  15.0  21.0  40.0  100.0\n",
       "0.20       161.0  27.024845  18.832801  2.0  12.0  21.0  40.0  100.0\n",
       "0.25       154.0  28.240260  20.120570  2.0  15.0  25.0  36.0  120.0"
      ]
     },
     "execution_count": 15,
     "metadata": {},
     "output_type": "execute_result"
    }
   ],
   "source": [
    "# Show description of statistics for differing discount levels\n",
    "df1['Quantity'].groupby(df1['Discount']).describe()"
   ]
  },
  {
   "cell_type": "code",
   "execution_count": 16,
   "metadata": {},
   "outputs": [
    {
     "data": {
      "text/html": [
       "<div>\n",
       "<style scoped>\n",
       "    .dataframe tbody tr th:only-of-type {\n",
       "        vertical-align: middle;\n",
       "    }\n",
       "\n",
       "    .dataframe tbody tr th {\n",
       "        vertical-align: top;\n",
       "    }\n",
       "\n",
       "    .dataframe thead th {\n",
       "        text-align: right;\n",
       "    }\n",
       "</style>\n",
       "<table border=\"1\" class=\"dataframe\">\n",
       "  <thead>\n",
       "    <tr style=\"text-align: right;\">\n",
       "      <th></th>\n",
       "      <th>count</th>\n",
       "      <th>mean</th>\n",
       "      <th>std</th>\n",
       "      <th>min</th>\n",
       "      <th>25%</th>\n",
       "      <th>50%</th>\n",
       "      <th>75%</th>\n",
       "      <th>max</th>\n",
       "    </tr>\n",
       "    <tr>\n",
       "      <th>Discount</th>\n",
       "      <th></th>\n",
       "      <th></th>\n",
       "      <th></th>\n",
       "      <th></th>\n",
       "      <th></th>\n",
       "      <th></th>\n",
       "      <th></th>\n",
       "      <th></th>\n",
       "    </tr>\n",
       "  </thead>\n",
       "  <tbody>\n",
       "    <tr>\n",
       "      <th>0.00</th>\n",
       "      <td>1317.0</td>\n",
       "      <td>21.715262</td>\n",
       "      <td>17.507493</td>\n",
       "      <td>1.0</td>\n",
       "      <td>10.0</td>\n",
       "      <td>18.0</td>\n",
       "      <td>30.0</td>\n",
       "      <td>130.0</td>\n",
       "    </tr>\n",
       "    <tr>\n",
       "      <th>0.05</th>\n",
       "      <td>185.0</td>\n",
       "      <td>28.010811</td>\n",
       "      <td>22.187685</td>\n",
       "      <td>1.0</td>\n",
       "      <td>14.0</td>\n",
       "      <td>20.0</td>\n",
       "      <td>40.0</td>\n",
       "      <td>120.0</td>\n",
       "    </tr>\n",
       "    <tr>\n",
       "      <th>0.10</th>\n",
       "      <td>173.0</td>\n",
       "      <td>25.236994</td>\n",
       "      <td>21.186503</td>\n",
       "      <td>2.0</td>\n",
       "      <td>10.0</td>\n",
       "      <td>20.0</td>\n",
       "      <td>30.0</td>\n",
       "      <td>130.0</td>\n",
       "    </tr>\n",
       "    <tr>\n",
       "      <th>0.15</th>\n",
       "      <td>157.0</td>\n",
       "      <td>28.382166</td>\n",
       "      <td>20.923099</td>\n",
       "      <td>2.0</td>\n",
       "      <td>15.0</td>\n",
       "      <td>21.0</td>\n",
       "      <td>40.0</td>\n",
       "      <td>100.0</td>\n",
       "    </tr>\n",
       "    <tr>\n",
       "      <th>0.20</th>\n",
       "      <td>161.0</td>\n",
       "      <td>27.024845</td>\n",
       "      <td>18.832801</td>\n",
       "      <td>2.0</td>\n",
       "      <td>12.0</td>\n",
       "      <td>21.0</td>\n",
       "      <td>40.0</td>\n",
       "      <td>100.0</td>\n",
       "    </tr>\n",
       "    <tr>\n",
       "      <th>0.25</th>\n",
       "      <td>154.0</td>\n",
       "      <td>28.240260</td>\n",
       "      <td>20.120570</td>\n",
       "      <td>2.0</td>\n",
       "      <td>15.0</td>\n",
       "      <td>25.0</td>\n",
       "      <td>36.0</td>\n",
       "      <td>120.0</td>\n",
       "    </tr>\n",
       "  </tbody>\n",
       "</table>\n",
       "</div>"
      ],
      "text/plain": [
       "           count       mean        std  min   25%   50%   75%    max\n",
       "Discount                                                            \n",
       "0.00      1317.0  21.715262  17.507493  1.0  10.0  18.0  30.0  130.0\n",
       "0.05       185.0  28.010811  22.187685  1.0  14.0  20.0  40.0  120.0\n",
       "0.10       173.0  25.236994  21.186503  2.0  10.0  20.0  30.0  130.0\n",
       "0.15       157.0  28.382166  20.923099  2.0  15.0  21.0  40.0  100.0\n",
       "0.20       161.0  27.024845  18.832801  2.0  12.0  21.0  40.0  100.0\n",
       "0.25       154.0  28.240260  20.120570  2.0  15.0  25.0  36.0  120.0"
      ]
     },
     "execution_count": 16,
     "metadata": {},
     "output_type": "execute_result"
    }
   ],
   "source": [
    "# Remove discount levels with counts that are less than 5\n",
    "discounts = ['0','0.0','0.05','0.10','0.15','0.20','0.25']\n",
    "df1 = df1.loc[df1['Discount'].isin(discounts)]\n",
    "df1['Quantity'].groupby(df1['Discount']).describe()"
   ]
  },
  {
   "cell_type": "code",
   "execution_count": 17,
   "metadata": {},
   "outputs": [
    {
     "name": "stdout",
     "output_type": "stream",
     "text": [
      "Multiple Comparison of Means - Tukey HSD,FWER=0.05\n",
      "=============================================\n",
      "group1 group2 meandiff  lower   upper  reject\n",
      "---------------------------------------------\n",
      " 0.0    0.05   6.2955   2.0814 10.5097  True \n",
      " 0.0    0.1    3.5217  -0.8187  7.8622 False \n",
      " 0.0    0.15   6.6669   2.1352 11.1986  True \n",
      " 0.0    0.2    5.3096   0.8285  9.7907  True \n",
      " 0.0    0.25   6.525    1.954   11.096  True \n",
      " 0.05   0.1   -2.7738  -8.4504  2.9028 False \n",
      " 0.05   0.15   0.3714  -5.4528  6.1955 False \n",
      " 0.05   0.2    -0.986  -6.7708  4.7989 False \n",
      " 0.05   0.25   0.2294  -5.6253  6.0842 False \n",
      " 0.1    0.15   3.1452   -2.771  9.0613 False \n",
      " 0.1    0.2    1.7879  -4.0896  7.6653 False \n",
      " 0.1    0.25   3.0033   -2.943  8.9496 False \n",
      " 0.15   0.2   -1.3573  -7.3775  4.6628 False \n",
      " 0.15   0.25  -0.1419  -6.2292  5.9454 False \n",
      " 0.2    0.25   1.2154  -4.8343  7.2652 False \n",
      "---------------------------------------------\n"
     ]
    }
   ],
   "source": [
    "# Import packages and run Tukey's range test to check how much of a discount has an effect on quantity\n",
    "import statsmodels.api as sm\n",
    "from statsmodels.stats.multicomp import pairwise_tukeyhsd\n",
    "from statsmodels.stats.multicomp import MultiComparison\n",
    "mc = MultiComparison(df1['Quantity'], df1['Discount'])\n",
    "mc_results = mc.tukeyhsd()\n",
    "print(mc_results)"
   ]
  },
  {
   "cell_type": "markdown",
   "metadata": {},
   "source": [
    "#### 2.7 Results"
   ]
  },
  {
   "cell_type": "markdown",
   "metadata": {},
   "source": [
    "Using the Chi-Squared Independence test, we were first able to show there was a statistically significant relationship between quantity and discount of an order. Next, we rejected our initial hypothesis and stated there is a difference between the mean quantity of orders with a discount and mean quantity of orders without a discount. Finally, using a Tukey's range test we were able to determine that discount levels of 5%, 15%, 20%, and 25% showed a statistically significant difference in quantity means when compared to orders with no discount."
   ]
  },
  {
   "cell_type": "markdown",
   "metadata": {},
   "source": [
    "***\n",
    "***\n",
    "<br>"
   ]
  },
  {
   "cell_type": "markdown",
   "metadata": {},
   "source": [
    "# 3. Question Two:\n",
    "## Does the category of products purchased have a statistically significant effect on the quantity of the order?"
   ]
  },
  {
   "cell_type": "markdown",
   "metadata": {},
   "source": [
    "***\n",
    "#### 3.1 Hypothesis Test:"
   ]
  },
  {
   "cell_type": "markdown",
   "metadata": {},
   "source": [
    "Null Hypothesis &nbsp; ($H_{0}$): &emsp;&emsp;&emsp;&emsp;&ensp; $μ_{Category1}$&ensp;=&ensp;$μ_{Category2}$<br><br>Alternative Hypothesis &nbsp; ($H_{a}$):&emsp;&ensp;&ensp; $μ_{Category1}$&ensp;≠&ensp;$μ_{Category2}$"
   ]
  },
  {
   "cell_type": "markdown",
   "metadata": {},
   "source": [
    "The μ in the hypothesis above references the mean number of products purchased for orders placed for differing product categories. This hypothesis test will be ran for each combination of categories. For these hypothesis tests, we will use a significance level ($\\alpha$) to 0.05 or 5%."
   ]
  },
  {
   "cell_type": "markdown",
   "metadata": {},
   "source": [
    "#### 3.2 Create Dataframe of pertinent information:"
   ]
  },
  {
   "cell_type": "code",
   "execution_count": 18,
   "metadata": {},
   "outputs": [
    {
     "data": {
      "text/html": [
       "<div>\n",
       "<style scoped>\n",
       "    .dataframe tbody tr th:only-of-type {\n",
       "        vertical-align: middle;\n",
       "    }\n",
       "\n",
       "    .dataframe tbody tr th {\n",
       "        vertical-align: top;\n",
       "    }\n",
       "\n",
       "    .dataframe thead th {\n",
       "        text-align: right;\n",
       "    }\n",
       "</style>\n",
       "<table border=\"1\" class=\"dataframe\">\n",
       "  <thead>\n",
       "    <tr style=\"text-align: right;\">\n",
       "      <th></th>\n",
       "      <th>Quantity</th>\n",
       "      <th>CategoryId</th>\n",
       "    </tr>\n",
       "  </thead>\n",
       "  <tbody>\n",
       "    <tr>\n",
       "      <th>0</th>\n",
       "      <td>12</td>\n",
       "      <td>4</td>\n",
       "    </tr>\n",
       "    <tr>\n",
       "      <th>1</th>\n",
       "      <td>10</td>\n",
       "      <td>5</td>\n",
       "    </tr>\n",
       "    <tr>\n",
       "      <th>2</th>\n",
       "      <td>5</td>\n",
       "      <td>4</td>\n",
       "    </tr>\n",
       "    <tr>\n",
       "      <th>3</th>\n",
       "      <td>9</td>\n",
       "      <td>7</td>\n",
       "    </tr>\n",
       "    <tr>\n",
       "      <th>4</th>\n",
       "      <td>40</td>\n",
       "      <td>7</td>\n",
       "    </tr>\n",
       "  </tbody>\n",
       "</table>\n",
       "</div>"
      ],
      "text/plain": [
       "   Quantity  CategoryId\n",
       "0        12           4\n",
       "1        10           5\n",
       "2         5           4\n",
       "3         9           7\n",
       "4        40           7"
      ]
     },
     "execution_count": 18,
     "metadata": {},
     "output_type": "execute_result"
    }
   ],
   "source": [
    "rs = con.execute(\"SELECT * FROM [OrderDetail] JOIN Product ON OrderDetail.ProductId = Product.Id\")\n",
    "df_Cat = pd.DataFrame(rs.fetchall()) \n",
    "df_Cat.columns = rs.keys()\n",
    "df_Cat.drop(df_Cat.columns[11], axis=1, inplace=True)\n",
    "df2 = df_Cat[['Quantity', 'CategoryId']]\n",
    "df2.head()"
   ]
  },
  {
   "cell_type": "markdown",
   "metadata": {},
   "source": [
    "#### 3.3 Check Parametric-Test Assumptions"
   ]
  },
  {
   "cell_type": "code",
   "execution_count": 19,
   "metadata": {},
   "outputs": [
    {
     "data": {
      "image/png": "[encoded data removed]",
      "text/plain": [
       "<Figure size 432x288 with 1 Axes>"
      ]
     },
     "metadata": {
      "needs_background": "light"
     },
     "output_type": "display_data"
    },
    {
     "data": {
      "image/png": "[encoded data removed]",
      "text/plain": [
       "<Figure size 432x288 with 1 Axes>"
      ]
     },
     "metadata": {
      "needs_background": "light"
     },
     "output_type": "display_data"
    }
   ],
   "source": [
    "plt.hist(df2['CategoryId'], bins=100)\n",
    "plt.show()\n",
    "qqplot(df2['CategoryId'], line='s')\n",
    "plt.show()"
   ]
  },
  {
   "cell_type": "markdown",
   "metadata": {},
   "source": [
    "Similar to before, the independent variable (category) is clearly discrete, but we will assume the dependent variable is continuous. We meet the second assumption of normality based on Central Limit Theorem and sample size. The two samples are independent and randomly taken, so assumptions three and four are met."
   ]
  },
  {
   "cell_type": "markdown",
   "metadata": {},
   "source": [
    "#### 3.4 Chi-Squared Independence Test and Welch's T-Test"
   ]
  },
  {
   "cell_type": "code",
   "execution_count": 20,
   "metadata": {},
   "outputs": [
    {
     "data": {
      "text/plain": [
       "[(1, 2),\n",
       " (1, 3),\n",
       " (1, 4),\n",
       " (1, 5),\n",
       " (1, 6),\n",
       " (1, 7),\n",
       " (1, 8),\n",
       " (2, 3),\n",
       " (2, 4),\n",
       " (2, 5),\n",
       " (2, 6),\n",
       " (2, 7),\n",
       " (2, 8),\n",
       " (3, 4),\n",
       " (3, 5),\n",
       " (3, 6),\n",
       " (3, 7),\n",
       " (3, 8),\n",
       " (4, 5),\n",
       " (4, 6),\n",
       " (4, 7),\n",
       " (4, 8),\n",
       " (5, 6),\n",
       " (5, 7),\n",
       " (5, 8),\n",
       " (6, 7),\n",
       " (6, 8),\n",
       " (7, 8)]"
      ]
     },
     "execution_count": 20,
     "metadata": {},
     "output_type": "execute_result"
    }
   ],
   "source": [
    "# Create a list of all possible combinations of categories\n",
    "from itertools import combinations\n",
    "combs = list(combinations(range(1,9), 2))\n",
    "combs"
   ]
  },
  {
   "cell_type": "code",
   "execution_count": 21,
   "metadata": {},
   "outputs": [
    {
     "data": {
      "text/html": [
       "<div>\n",
       "<style scoped>\n",
       "    .dataframe tbody tr th:only-of-type {\n",
       "        vertical-align: middle;\n",
       "    }\n",
       "\n",
       "    .dataframe tbody tr th {\n",
       "        vertical-align: top;\n",
       "    }\n",
       "\n",
       "    .dataframe thead th {\n",
       "        text-align: right;\n",
       "    }\n",
       "</style>\n",
       "<table border=\"1\" class=\"dataframe\">\n",
       "  <thead>\n",
       "    <tr style=\"text-align: right;\">\n",
       "      <th></th>\n",
       "      <th>Comparison</th>\n",
       "      <th>Chi-Squared Statistic</th>\n",
       "      <th>Degrees of Freedom</th>\n",
       "      <th>P-Value</th>\n",
       "      <th>T-Test Statistic</th>\n",
       "      <th>T-Test P-Value</th>\n",
       "      <th>First Average Quantity</th>\n",
       "      <th>Second Average Quantity</th>\n",
       "    </tr>\n",
       "  </thead>\n",
       "  <tbody>\n",
       "    <tr>\n",
       "      <th>0</th>\n",
       "      <td>Cat 1 vs. Cat 2</td>\n",
       "      <td>51.44082105479313</td>\n",
       "      <td>30</td>\n",
       "      <td>0.008744506492391349</td>\n",
       "      <td>-0.566</td>\n",
       "      <td>0.572</td>\n",
       "      <td>21.9</td>\n",
       "      <td>22.6</td>\n",
       "    </tr>\n",
       "    <tr>\n",
       "      <th>14</th>\n",
       "      <td>Cat 3 vs. Cat 5</td>\n",
       "      <td>44.31084325119079</td>\n",
       "      <td>28</td>\n",
       "      <td>0.025877352209525938</td>\n",
       "      <td>0.245</td>\n",
       "      <td>0.806</td>\n",
       "      <td>22.7</td>\n",
       "      <td>21.6</td>\n",
       "    </tr>\n",
       "    <tr>\n",
       "      <th>18</th>\n",
       "      <td>Cat 4 vs. Cat 5</td>\n",
       "      <td>45.73545973093878</td>\n",
       "      <td>30</td>\n",
       "      <td>0.0329266540967386</td>\n",
       "      <td>1.055</td>\n",
       "      <td>0.292</td>\n",
       "      <td>24.0</td>\n",
       "      <td>22.1</td>\n",
       "    </tr>\n",
       "    <tr>\n",
       "      <th>13</th>\n",
       "      <td>Cat 3 vs. Cat 4</td>\n",
       "      <td>45.456965897010235</td>\n",
       "      <td>31</td>\n",
       "      <td>0.04536873105148003</td>\n",
       "      <td>-0.973</td>\n",
       "      <td>0.331</td>\n",
       "      <td>22.7</td>\n",
       "      <td>24.2</td>\n",
       "    </tr>\n",
       "  </tbody>\n",
       "</table>\n",
       "</div>"
      ],
      "text/plain": [
       "         Comparison Chi-Squared Statistic Degrees of Freedom  \\\n",
       "0   Cat 1 vs. Cat 2     51.44082105479313                 30   \n",
       "14  Cat 3 vs. Cat 5     44.31084325119079                 28   \n",
       "18  Cat 4 vs. Cat 5     45.73545973093878                 30   \n",
       "13  Cat 3 vs. Cat 4    45.456965897010235                 31   \n",
       "\n",
       "                 P-Value T-Test Statistic T-Test P-Value  \\\n",
       "0   0.008744506492391349           -0.566          0.572   \n",
       "14  0.025877352209525938            0.245          0.806   \n",
       "18    0.0329266540967386            1.055          0.292   \n",
       "13   0.04536873105148003           -0.973          0.331   \n",
       "\n",
       "   First Average Quantity Second Average Quantity  \n",
       "0                    21.9                    22.6  \n",
       "14                   22.7                    21.6  \n",
       "18                   24.0                    22.1  \n",
       "13                   22.7                    24.2  "
      ]
     },
     "execution_count": 21,
     "metadata": {},
     "output_type": "execute_result"
    }
   ],
   "source": [
    "# Create a dataframe to hold the results of the tests\n",
    "df_Categories = pd.DataFrame(columns=('Comparison','Chi-Squared Statistic', 'Degrees of Freedom', 'P-Value', 'T-Test Statistic', 'T-Test P-Value', 'First Average Quantity', 'Second Average Quantity'))\n",
    "index = 0\n",
    "\n",
    "# Run Chi-Squared test for each combination\n",
    "for comb in combs:\n",
    "    \n",
    "    # Create testing dataframe\n",
    "    df_comb = pd.DataFrame(columns = Quantities)\n",
    "    \n",
    "    # Create Category1 dataset\n",
    "    df_Cat1 = df2.loc[df2['CategoryId'] == comb[0]]\n",
    "    \n",
    "    # Create Category2 dataset\n",
    "    df_Cat2 = df2.loc[df2['CategoryId'] == comb[1]]\n",
    "\n",
    "    # Count quantities for Catgory1 and add as row to testing dataframe\n",
    "    count1 = Counter()\n",
    "    for quantity in df_Cat1['Quantity']:\n",
    "        count1[quantity] += 1\n",
    "\n",
    "    for q in Quantities:\n",
    "        for c in count1.keys():\n",
    "            if q == c:\n",
    "                df_comb.loc[df2.index[0], q] = count1[c]\n",
    "    \n",
    "    # Count quantities for Catgory2 and add as row to testing dataframe       \n",
    "    count2 = Counter()\n",
    "    for quantity in df_Cat2['Quantity']:\n",
    "        count2[quantity] += 1\n",
    "\n",
    "    for q in Quantities:\n",
    "        for c in count2.keys():\n",
    "            if q == c:\n",
    "                df_comb.loc[df2.index[1], q] = count2[c]\n",
    "            \n",
    "    #Fill missing values with zeroes and remove columns with counts less than 3\n",
    "    df_comb.fillna(0, inplace=True)\n",
    "    for i in df_comb.columns:\n",
    "        if df_comb[i][0] < 3 and df_comb[i][1] < 3:\n",
    "            df_comb.drop(i, axis=1, inplace=True)\n",
    "            \n",
    "    new_list = []\n",
    "    new_list2 = []\n",
    "    for i in df_comb.columns:\n",
    "        new_list.append(i*df_comb[i][0])\n",
    "        new_list2.append(df_comb[i][0])\n",
    "        \n",
    "    new_list3 = []\n",
    "    new_list4 = []\n",
    "    for i in df_comb.columns:\n",
    "        new_list3.append(i*df_comb[i][1])\n",
    "        new_list4.append(df_comb[i][1])\n",
    "        \n",
    "    # Run Chi-Squared Independence Test\n",
    "    x = list(df_comb.iloc[0]), list(df_comb.iloc[1])\n",
    "    obs = np.array(x)\n",
    "    Col = \"Cat \" + str(comb[0]) + \" vs. Cat \" + str(comb[1])\n",
    "    Chi = chi2_contingency(obs)[0]\n",
    "    Deg = chi2_contingency(obs)[2]\n",
    "    PV = chi2_contingency(obs)[1]\n",
    "    \n",
    "    # Run Welch's T-Test    \n",
    "    welch = list(stat.ttest_ind(df_Cat1['Quantity'],df_Cat2['Quantity'], equal_var=False))\n",
    "    T_test_stat = str(round(welch[0],3))\n",
    "    T_test_p = str(round(welch[1],3))\n",
    "    \n",
    "    # Calculate average quantity for orders of each category\n",
    "    Avg1 = round(sum(new_list)/sum(new_list2),1)\n",
    "    Avg2 = round(sum(new_list3)/sum(new_list4),1)\n",
    "    \n",
    "    # Add results to results dataframe\n",
    "    row = np.array([Col, Chi, Deg, PV, T_test_stat, T_test_p, Avg1, Avg2])\n",
    "    df_Categories.loc[index] = row\n",
    "    index += 1\n",
    "    \n",
    "# Print rows with a Chi-Squared or Welch's T-Test P-Value below 0.05\n",
    "df_Categories.sort_values(by=['P-Value'], inplace=True)\n",
    "df_Categories.loc[(df_Categories['P-Value'].astype(float) < 0.05) | (df_Categories['T-Test P-Value'].astype(float) < 0.05)]"
   ]
  },
  {
   "cell_type": "code",
   "execution_count": 22,
   "metadata": {},
   "outputs": [
    {
     "data": {
      "text/html": [
       "<div>\n",
       "<style scoped>\n",
       "    .dataframe tbody tr th:only-of-type {\n",
       "        vertical-align: middle;\n",
       "    }\n",
       "\n",
       "    .dataframe tbody tr th {\n",
       "        vertical-align: top;\n",
       "    }\n",
       "\n",
       "    .dataframe thead th {\n",
       "        text-align: right;\n",
       "    }\n",
       "</style>\n",
       "<table border=\"1\" class=\"dataframe\">\n",
       "  <thead>\n",
       "    <tr style=\"text-align: right;\">\n",
       "      <th></th>\n",
       "      <th>Id</th>\n",
       "      <th>CategoryName</th>\n",
       "      <th>Description</th>\n",
       "    </tr>\n",
       "  </thead>\n",
       "  <tbody>\n",
       "    <tr>\n",
       "      <th>0</th>\n",
       "      <td>1</td>\n",
       "      <td>Beverages</td>\n",
       "      <td>Soft drinks, coffees, teas, beers, and ales</td>\n",
       "    </tr>\n",
       "    <tr>\n",
       "      <th>1</th>\n",
       "      <td>2</td>\n",
       "      <td>Condiments</td>\n",
       "      <td>Sweet and savory sauces, relishes, spreads, an...</td>\n",
       "    </tr>\n",
       "    <tr>\n",
       "      <th>2</th>\n",
       "      <td>3</td>\n",
       "      <td>Confections</td>\n",
       "      <td>Desserts, candies, and sweet breads</td>\n",
       "    </tr>\n",
       "    <tr>\n",
       "      <th>3</th>\n",
       "      <td>4</td>\n",
       "      <td>Dairy Products</td>\n",
       "      <td>Cheeses</td>\n",
       "    </tr>\n",
       "    <tr>\n",
       "      <th>4</th>\n",
       "      <td>5</td>\n",
       "      <td>Grains/Cereals</td>\n",
       "      <td>Breads, crackers, pasta, and cereal</td>\n",
       "    </tr>\n",
       "    <tr>\n",
       "      <th>5</th>\n",
       "      <td>6</td>\n",
       "      <td>Meat/Poultry</td>\n",
       "      <td>Prepared meats</td>\n",
       "    </tr>\n",
       "    <tr>\n",
       "      <th>6</th>\n",
       "      <td>7</td>\n",
       "      <td>Produce</td>\n",
       "      <td>Dried fruit and bean curd</td>\n",
       "    </tr>\n",
       "    <tr>\n",
       "      <th>7</th>\n",
       "      <td>8</td>\n",
       "      <td>Seafood</td>\n",
       "      <td>Seaweed and fish</td>\n",
       "    </tr>\n",
       "  </tbody>\n",
       "</table>\n",
       "</div>"
      ],
      "text/plain": [
       "   Id    CategoryName                                        Description\n",
       "0   1       Beverages        Soft drinks, coffees, teas, beers, and ales\n",
       "1   2      Condiments  Sweet and savory sauces, relishes, spreads, an...\n",
       "2   3     Confections                Desserts, candies, and sweet breads\n",
       "3   4  Dairy Products                                            Cheeses\n",
       "4   5  Grains/Cereals                Breads, crackers, pasta, and cereal\n",
       "5   6    Meat/Poultry                                     Prepared meats\n",
       "6   7         Produce                          Dried fruit and bean curd\n",
       "7   8         Seafood                                   Seaweed and fish"
      ]
     },
     "execution_count": 22,
     "metadata": {},
     "output_type": "execute_result"
    }
   ],
   "source": [
    "# Create Category reference table\n",
    "con = engine.connect()\n",
    "rs = con.execute(\"SELECT * FROM [Category]\")\n",
    "df_Cat_names = pd.DataFrame(rs.fetchall()) \n",
    "df_Cat_names.columns = rs.keys()\n",
    "df_Cat_names"
   ]
  },
  {
   "cell_type": "markdown",
   "metadata": {},
   "source": [
    "#### 3.5 Results"
   ]
  },
  {
   "cell_type": "markdown",
   "metadata": {},
   "source": [
    "Using the Chi-Squared Independence test, we were first able to determine there is a statistically significant relationship between quantity and category when comparing datasets of the following categories:\n",
    "\n",
    "1. Beverages vs. Condiments\n",
    "2. Confections vs. Grains/Cereals\n",
    "3. Dairy Products vs. Grains/Cereals\n",
    "4. Confections vs. Dairy Products\n",
    "\n",
    "Although we can say there is relationship between the category and quanitity variables, the P-value for the Welch's T-Test for all combinations of categories was above our significance value of 0.05. Therefore, we cannot reject the null hypothesis; there is no difference in means of the quanitity of an order when comparing product categories."
   ]
  },
  {
   "cell_type": "markdown",
   "metadata": {},
   "source": [
    "***\n",
    "***\n",
    "<br>"
   ]
  },
  {
   "cell_type": "markdown",
   "metadata": {},
   "source": [
    "# 4. Question Three:\n",
    "## Does the region a customer is from have a statistically significant effect on the total amount of their order?"
   ]
  },
  {
   "cell_type": "markdown",
   "metadata": {},
   "source": [
    "***\n",
    "#### 4.1 Hypothesis Test:"
   ]
  },
  {
   "cell_type": "markdown",
   "metadata": {},
   "source": [
    "Null Hypothesis &nbsp; ($H_{0}$): &emsp;&emsp;&emsp;&emsp;&ensp; $μ_{Americas}$&ensp;=&ensp;$μ_{Europe}$<br><br>Alternative Hypothesis &nbsp; ($H_{a}$):&emsp;&ensp;&ensp; $μ_{Americas}$&ensp;≠&ensp;$μ_{Europe}$"
   ]
  },
  {
   "cell_type": "markdown",
   "metadata": {},
   "source": [
    "The μ in the hypothesis above references the mean order total for orders placed from Europe and the Americas. For this hypothesis test, we will use a significance level (α) to 0.05 or 5%."
   ]
  },
  {
   "cell_type": "markdown",
   "metadata": {},
   "source": [
    "#### 4.2 Create dataframe of pertinent information"
   ]
  },
  {
   "cell_type": "code",
   "execution_count": 23,
   "metadata": {},
   "outputs": [
    {
     "data": {
      "text/html": [
       "<div>\n",
       "<style scoped>\n",
       "    .dataframe tbody tr th:only-of-type {\n",
       "        vertical-align: middle;\n",
       "    }\n",
       "\n",
       "    .dataframe tbody tr th {\n",
       "        vertical-align: top;\n",
       "    }\n",
       "\n",
       "    .dataframe thead th {\n",
       "        text-align: right;\n",
       "    }\n",
       "</style>\n",
       "<table border=\"1\" class=\"dataframe\">\n",
       "  <thead>\n",
       "    <tr style=\"text-align: right;\">\n",
       "      <th></th>\n",
       "      <th>Id</th>\n",
       "      <th>OrderId</th>\n",
       "      <th>ProductId</th>\n",
       "      <th>UnitPrice</th>\n",
       "      <th>Quantity</th>\n",
       "      <th>Discount</th>\n",
       "      <th>Id</th>\n",
       "      <th>CustomerId</th>\n",
       "      <th>EmployeeId</th>\n",
       "      <th>OrderDate</th>\n",
       "      <th>RequiredDate</th>\n",
       "      <th>ShippedDate</th>\n",
       "      <th>ShipVia</th>\n",
       "      <th>Freight</th>\n",
       "      <th>ShipName</th>\n",
       "      <th>ShipAddress</th>\n",
       "      <th>ShipCity</th>\n",
       "      <th>ShipRegion</th>\n",
       "      <th>ShipPostalCode</th>\n",
       "      <th>ShipCountry</th>\n",
       "    </tr>\n",
       "  </thead>\n",
       "  <tbody>\n",
       "    <tr>\n",
       "      <th>0</th>\n",
       "      <td>10248/11</td>\n",
       "      <td>10248</td>\n",
       "      <td>11</td>\n",
       "      <td>14.0</td>\n",
       "      <td>12</td>\n",
       "      <td>0.0</td>\n",
       "      <td>10248</td>\n",
       "      <td>VINET</td>\n",
       "      <td>5</td>\n",
       "      <td>2012-07-04</td>\n",
       "      <td>2012-08-01</td>\n",
       "      <td>2012-07-16</td>\n",
       "      <td>3</td>\n",
       "      <td>32.38</td>\n",
       "      <td>Vins et alcools Chevalier</td>\n",
       "      <td>59 rue de l'Abbaye</td>\n",
       "      <td>Reims</td>\n",
       "      <td>Western Europe</td>\n",
       "      <td>51100</td>\n",
       "      <td>France</td>\n",
       "    </tr>\n",
       "    <tr>\n",
       "      <th>1</th>\n",
       "      <td>10248/42</td>\n",
       "      <td>10248</td>\n",
       "      <td>42</td>\n",
       "      <td>9.8</td>\n",
       "      <td>10</td>\n",
       "      <td>0.0</td>\n",
       "      <td>10248</td>\n",
       "      <td>VINET</td>\n",
       "      <td>5</td>\n",
       "      <td>2012-07-04</td>\n",
       "      <td>2012-08-01</td>\n",
       "      <td>2012-07-16</td>\n",
       "      <td>3</td>\n",
       "      <td>32.38</td>\n",
       "      <td>Vins et alcools Chevalier</td>\n",
       "      <td>59 rue de l'Abbaye</td>\n",
       "      <td>Reims</td>\n",
       "      <td>Western Europe</td>\n",
       "      <td>51100</td>\n",
       "      <td>France</td>\n",
       "    </tr>\n",
       "    <tr>\n",
       "      <th>2</th>\n",
       "      <td>10248/72</td>\n",
       "      <td>10248</td>\n",
       "      <td>72</td>\n",
       "      <td>34.8</td>\n",
       "      <td>5</td>\n",
       "      <td>0.0</td>\n",
       "      <td>10248</td>\n",
       "      <td>VINET</td>\n",
       "      <td>5</td>\n",
       "      <td>2012-07-04</td>\n",
       "      <td>2012-08-01</td>\n",
       "      <td>2012-07-16</td>\n",
       "      <td>3</td>\n",
       "      <td>32.38</td>\n",
       "      <td>Vins et alcools Chevalier</td>\n",
       "      <td>59 rue de l'Abbaye</td>\n",
       "      <td>Reims</td>\n",
       "      <td>Western Europe</td>\n",
       "      <td>51100</td>\n",
       "      <td>France</td>\n",
       "    </tr>\n",
       "    <tr>\n",
       "      <th>3</th>\n",
       "      <td>10249/14</td>\n",
       "      <td>10249</td>\n",
       "      <td>14</td>\n",
       "      <td>18.6</td>\n",
       "      <td>9</td>\n",
       "      <td>0.0</td>\n",
       "      <td>10249</td>\n",
       "      <td>TOMSP</td>\n",
       "      <td>6</td>\n",
       "      <td>2012-07-05</td>\n",
       "      <td>2012-08-16</td>\n",
       "      <td>2012-07-10</td>\n",
       "      <td>1</td>\n",
       "      <td>11.61</td>\n",
       "      <td>Toms Spezialitäten</td>\n",
       "      <td>Luisenstr. 48</td>\n",
       "      <td>Münster</td>\n",
       "      <td>Western Europe</td>\n",
       "      <td>44087</td>\n",
       "      <td>Germany</td>\n",
       "    </tr>\n",
       "    <tr>\n",
       "      <th>4</th>\n",
       "      <td>10249/51</td>\n",
       "      <td>10249</td>\n",
       "      <td>51</td>\n",
       "      <td>42.4</td>\n",
       "      <td>40</td>\n",
       "      <td>0.0</td>\n",
       "      <td>10249</td>\n",
       "      <td>TOMSP</td>\n",
       "      <td>6</td>\n",
       "      <td>2012-07-05</td>\n",
       "      <td>2012-08-16</td>\n",
       "      <td>2012-07-10</td>\n",
       "      <td>1</td>\n",
       "      <td>11.61</td>\n",
       "      <td>Toms Spezialitäten</td>\n",
       "      <td>Luisenstr. 48</td>\n",
       "      <td>Münster</td>\n",
       "      <td>Western Europe</td>\n",
       "      <td>44087</td>\n",
       "      <td>Germany</td>\n",
       "    </tr>\n",
       "  </tbody>\n",
       "</table>\n",
       "</div>"
      ],
      "text/plain": [
       "         Id  OrderId  ProductId  UnitPrice  Quantity  Discount     Id  \\\n",
       "0  10248/11    10248         11       14.0        12       0.0  10248   \n",
       "1  10248/42    10248         42        9.8        10       0.0  10248   \n",
       "2  10248/72    10248         72       34.8         5       0.0  10248   \n",
       "3  10249/14    10249         14       18.6         9       0.0  10249   \n",
       "4  10249/51    10249         51       42.4        40       0.0  10249   \n",
       "\n",
       "  CustomerId  EmployeeId   OrderDate RequiredDate ShippedDate  ShipVia  \\\n",
       "0      VINET           5  2012-07-04   2012-08-01  2012-07-16        3   \n",
       "1      VINET           5  2012-07-04   2012-08-01  2012-07-16        3   \n",
       "2      VINET           5  2012-07-04   2012-08-01  2012-07-16        3   \n",
       "3      TOMSP           6  2012-07-05   2012-08-16  2012-07-10        1   \n",
       "4      TOMSP           6  2012-07-05   2012-08-16  2012-07-10        1   \n",
       "\n",
       "   Freight                   ShipName         ShipAddress ShipCity  \\\n",
       "0    32.38  Vins et alcools Chevalier  59 rue de l'Abbaye    Reims   \n",
       "1    32.38  Vins et alcools Chevalier  59 rue de l'Abbaye    Reims   \n",
       "2    32.38  Vins et alcools Chevalier  59 rue de l'Abbaye    Reims   \n",
       "3    11.61         Toms Spezialitäten       Luisenstr. 48  Münster   \n",
       "4    11.61         Toms Spezialitäten       Luisenstr. 48  Münster   \n",
       "\n",
       "       ShipRegion ShipPostalCode ShipCountry  \n",
       "0  Western Europe          51100      France  \n",
       "1  Western Europe          51100      France  \n",
       "2  Western Europe          51100      France  \n",
       "3  Western Europe          44087     Germany  \n",
       "4  Western Europe          44087     Germany  "
      ]
     },
     "execution_count": 23,
     "metadata": {},
     "output_type": "execute_result"
    }
   ],
   "source": [
    "rs = con.execute(\"SELECT * FROM [OrderDetail]  JOIN [Order] ON OrderDetail.OrderId = [Order].Id\")\n",
    "df_Reg = pd.DataFrame(rs.fetchall()) \n",
    "df_Reg.columns = rs.keys()\n",
    "df_Reg.head()"
   ]
  },
  {
   "cell_type": "code",
   "execution_count": 24,
   "metadata": {},
   "outputs": [
    {
     "data": {
      "text/plain": [
       "array(['Western Europe', 'South America', 'Central America',\n",
       "       'North America', 'Northern Europe', 'Scandinavia',\n",
       "       'Southern Europe', 'British Isles', 'Eastern Europe'], dtype=object)"
      ]
     },
     "execution_count": 24,
     "metadata": {},
     "output_type": "execute_result"
    }
   ],
   "source": [
    "df3 = df_Reg[['OrderId','UnitPrice','Quantity','ShipRegion']]\n",
    "df3.head()\n",
    "df3['ShipRegion'].unique()"
   ]
  },
  {
   "cell_type": "code",
   "execution_count": 25,
   "metadata": {},
   "outputs": [
    {
     "data": {
      "text/html": [
       "<div>\n",
       "<style scoped>\n",
       "    .dataframe tbody tr th:only-of-type {\n",
       "        vertical-align: middle;\n",
       "    }\n",
       "\n",
       "    .dataframe tbody tr th {\n",
       "        vertical-align: top;\n",
       "    }\n",
       "\n",
       "    .dataframe thead th {\n",
       "        text-align: right;\n",
       "    }\n",
       "</style>\n",
       "<table border=\"1\" class=\"dataframe\">\n",
       "  <thead>\n",
       "    <tr style=\"text-align: right;\">\n",
       "      <th></th>\n",
       "      <th>OrderId</th>\n",
       "      <th>UnitPrice</th>\n",
       "      <th>Quantity</th>\n",
       "      <th>ShipRegion</th>\n",
       "      <th>Total</th>\n",
       "    </tr>\n",
       "  </thead>\n",
       "  <tbody>\n",
       "    <tr>\n",
       "      <th>0</th>\n",
       "      <td>10248</td>\n",
       "      <td>14.0</td>\n",
       "      <td>12</td>\n",
       "      <td>Western Europe</td>\n",
       "      <td>440.0</td>\n",
       "    </tr>\n",
       "    <tr>\n",
       "      <th>1</th>\n",
       "      <td>10248</td>\n",
       "      <td>9.8</td>\n",
       "      <td>10</td>\n",
       "      <td>Western Europe</td>\n",
       "      <td>440.0</td>\n",
       "    </tr>\n",
       "    <tr>\n",
       "      <th>2</th>\n",
       "      <td>10248</td>\n",
       "      <td>34.8</td>\n",
       "      <td>5</td>\n",
       "      <td>Western Europe</td>\n",
       "      <td>440.0</td>\n",
       "    </tr>\n",
       "    <tr>\n",
       "      <th>3</th>\n",
       "      <td>10249</td>\n",
       "      <td>18.6</td>\n",
       "      <td>9</td>\n",
       "      <td>Western Europe</td>\n",
       "      <td>1863.4</td>\n",
       "    </tr>\n",
       "    <tr>\n",
       "      <th>4</th>\n",
       "      <td>10249</td>\n",
       "      <td>42.4</td>\n",
       "      <td>40</td>\n",
       "      <td>Western Europe</td>\n",
       "      <td>1863.4</td>\n",
       "    </tr>\n",
       "  </tbody>\n",
       "</table>\n",
       "</div>"
      ],
      "text/plain": [
       "   OrderId  UnitPrice  Quantity      ShipRegion   Total\n",
       "0    10248       14.0        12  Western Europe   440.0\n",
       "1    10248        9.8        10  Western Europe   440.0\n",
       "2    10248       34.8         5  Western Europe   440.0\n",
       "3    10249       18.6         9  Western Europe  1863.4\n",
       "4    10249       42.4        40  Western Europe  1863.4"
      ]
     },
     "execution_count": 25,
     "metadata": {},
     "output_type": "execute_result"
    }
   ],
   "source": [
    "# Add \"Total\" column, which is the total price of all products purchased for each order\n",
    "all_orders = df3['OrderId'].unique()\n",
    "\n",
    "for order in list(all_orders):\n",
    "    sum_list = []\n",
    "    y = list(df3.loc[df3['OrderId'] == int(order), 'UnitPrice'].index)\n",
    "    z = len(df3.loc[df3['OrderId'] == order])\n",
    "    for i in list(range(y[0],y[0]+z)):\n",
    "        x = (df3.loc[df3['OrderId'] == int(order), 'UnitPrice'][i])*(df3.loc[df3['OrderId'] == int(order), 'Quantity'][i])\n",
    "        sum_list.append(x)\n",
    "        df3.loc[df3['OrderId'] == order, 'Total'] = sum(sum_list)\n",
    "df3.head()"
   ]
  },
  {
   "cell_type": "code",
   "execution_count": 26,
   "metadata": {},
   "outputs": [
    {
     "data": {
      "text/html": [
       "<div>\n",
       "<style scoped>\n",
       "    .dataframe tbody tr th:only-of-type {\n",
       "        vertical-align: middle;\n",
       "    }\n",
       "\n",
       "    .dataframe tbody tr th {\n",
       "        vertical-align: top;\n",
       "    }\n",
       "\n",
       "    .dataframe thead th {\n",
       "        text-align: right;\n",
       "    }\n",
       "</style>\n",
       "<table border=\"1\" class=\"dataframe\">\n",
       "  <thead>\n",
       "    <tr style=\"text-align: right;\">\n",
       "      <th></th>\n",
       "      <th>OrderId</th>\n",
       "      <th>ShipRegion</th>\n",
       "      <th>Total</th>\n",
       "      <th>BroadRegion</th>\n",
       "    </tr>\n",
       "  </thead>\n",
       "  <tbody>\n",
       "    <tr>\n",
       "      <th>0</th>\n",
       "      <td>10248</td>\n",
       "      <td>Western Europe</td>\n",
       "      <td>440.0</td>\n",
       "      <td>Europe</td>\n",
       "    </tr>\n",
       "    <tr>\n",
       "      <th>3</th>\n",
       "      <td>10249</td>\n",
       "      <td>Western Europe</td>\n",
       "      <td>1863.4</td>\n",
       "      <td>Europe</td>\n",
       "    </tr>\n",
       "    <tr>\n",
       "      <th>5</th>\n",
       "      <td>10250</td>\n",
       "      <td>South America</td>\n",
       "      <td>1813.0</td>\n",
       "      <td>Americas</td>\n",
       "    </tr>\n",
       "    <tr>\n",
       "      <th>8</th>\n",
       "      <td>10251</td>\n",
       "      <td>Western Europe</td>\n",
       "      <td>670.8</td>\n",
       "      <td>Europe</td>\n",
       "    </tr>\n",
       "    <tr>\n",
       "      <th>11</th>\n",
       "      <td>10252</td>\n",
       "      <td>Western Europe</td>\n",
       "      <td>3730.0</td>\n",
       "      <td>Europe</td>\n",
       "    </tr>\n",
       "  </tbody>\n",
       "</table>\n",
       "</div>"
      ],
      "text/plain": [
       "    OrderId      ShipRegion   Total BroadRegion\n",
       "0     10248  Western Europe   440.0      Europe\n",
       "3     10249  Western Europe  1863.4      Europe\n",
       "5     10250   South America  1813.0    Americas\n",
       "8     10251  Western Europe   670.8      Europe\n",
       "11    10252  Western Europe  3730.0      Europe"
      ]
     },
     "execution_count": 26,
     "metadata": {},
     "output_type": "execute_result"
    }
   ],
   "source": [
    "# Convert ShipRegion column into two categories (Europe and Americas)\n",
    "df3 = df3[['OrderId','ShipRegion', 'Total']]\n",
    "df3.drop_duplicates(inplace=True)\n",
    "df3['ShipRegion'].unique()\n",
    "regions = ['Western Europe', 'Northern Europe', 'Scandinavia', 'Southern Europe', 'British Isles', 'Eastern Europe'] \n",
    "for region in regions:\n",
    "    df3.loc[df3['ShipRegion'] == region, 'BroadRegion'] = 'Europe'\n",
    "df3 = df3.fillna('Americas')\n",
    "df3.head()"
   ]
  },
  {
   "cell_type": "markdown",
   "metadata": {},
   "source": [
    "#### 4.3 Check Parametric-Test Assumptions"
   ]
  },
  {
   "cell_type": "markdown",
   "metadata": {},
   "source": [
    "The independent variable (Region) is discrete, but the dependent variable (Total Price) is continuous. We meet the second assumption of normality based on Central Limit Theorem and sample size. The two samples are independent and randomly taken, so assumptions three and four are met."
   ]
  },
  {
   "cell_type": "code",
   "execution_count": 27,
   "metadata": {},
   "outputs": [
    {
     "name": "stdout",
     "output_type": "stream",
     "text": [
      "Europe Variance:  3687608.0\n",
      "Americas Variance:  4377370.0\n"
     ]
    }
   ],
   "source": [
    "# Check for equal variance\n",
    "Europe_list = list(df3.loc[df3['BroadRegion'] == 'Europe']['Total'])\n",
    "Americas_list = list(df3.loc[df3['BroadRegion'] == 'Americas']['Total'])\n",
    "print('Europe Variance: ',str(round(np.var(Europe_list))))\n",
    "print('Americas Variance: ',str(round(np.var(Americas_list))))"
   ]
  },
  {
   "cell_type": "markdown",
   "metadata": {},
   "source": [
    "The two samples have different variances, so the Welch's t-test will be employed."
   ]
  },
  {
   "cell_type": "markdown",
   "metadata": {},
   "source": [
    "#### 4.4 Welch's T-Test"
   ]
  },
  {
   "cell_type": "code",
   "execution_count": 28,
   "metadata": {},
   "outputs": [
    {
     "name": "stdout",
     "output_type": "stream",
     "text": [
      "Statistic:  0.122\n",
      "P-Value:  0.903\n"
     ]
    }
   ],
   "source": [
    "welch = list(stat.ttest_ind(Europe_list,Americas_list, equal_var=False))\n",
    "print(\"Statistic: \",str(round(welch[0],3)))\n",
    "print(\"P-Value: \",str(round(welch[1],3)))"
   ]
  },
  {
   "cell_type": "markdown",
   "metadata": {},
   "source": [
    "#### 4.5 Results"
   ]
  },
  {
   "cell_type": "markdown",
   "metadata": {},
   "source": [
    "The P-value for our Welch's t-test is much larger than our significance level of 0.05. For this reason, we cannot reject the null hypothesis. There is no statistically significant difference between the mean order total for orders placed in the Americas vs. orders placed in Europe."
   ]
  },
  {
   "cell_type": "markdown",
   "metadata": {},
   "source": [
    "***\n",
    "***\n",
    "<br>"
   ]
  },
  {
   "cell_type": "markdown",
   "metadata": {},
   "source": [
    "# 5. Question Four:\n",
    "## Does the country a customer is from have a statistically significant effect on the total amount of their order?"
   ]
  },
  {
   "cell_type": "markdown",
   "metadata": {},
   "source": [
    "***\n",
    "#### 5.1 Hypothesis Test:"
   ]
  },
  {
   "cell_type": "markdown",
   "metadata": {},
   "source": [
    "Null Hypothesis &nbsp; ($H_{0}$): &emsp;&emsp;&emsp;&emsp;&ensp; $μ_{Country1}$&ensp;=&ensp;$μ_{Country2}$<br><br>Alternative Hypothesis &nbsp; ($H_{a}$):&emsp;&ensp;&ensp; $μ_{Country1}$&ensp;≠&ensp;$μ_{Country2}$"
   ]
  },
  {
   "cell_type": "markdown",
   "metadata": {},
   "source": [
    "The μ in the hypothesis above references the mean order total for orders placed in different countries. This hypothesis test will be ran for each combination of countries. For these hypothesis tests, we will use a significance level (α) to 0.05 or 5%."
   ]
  },
  {
   "cell_type": "markdown",
   "metadata": {},
   "source": [
    "#### 5.2 Create dataframe of pertinent information"
   ]
  },
  {
   "cell_type": "code",
   "execution_count": 29,
   "metadata": {},
   "outputs": [
    {
     "data": {
      "text/html": [
       "<div>\n",
       "<style scoped>\n",
       "    .dataframe tbody tr th:only-of-type {\n",
       "        vertical-align: middle;\n",
       "    }\n",
       "\n",
       "    .dataframe tbody tr th {\n",
       "        vertical-align: top;\n",
       "    }\n",
       "\n",
       "    .dataframe thead th {\n",
       "        text-align: right;\n",
       "    }\n",
       "</style>\n",
       "<table border=\"1\" class=\"dataframe\">\n",
       "  <thead>\n",
       "    <tr style=\"text-align: right;\">\n",
       "      <th></th>\n",
       "      <th>OrderId</th>\n",
       "      <th>UnitPrice</th>\n",
       "      <th>Quantity</th>\n",
       "      <th>Country</th>\n",
       "    </tr>\n",
       "  </thead>\n",
       "  <tbody>\n",
       "    <tr>\n",
       "      <th>0</th>\n",
       "      <td>10248</td>\n",
       "      <td>14.0</td>\n",
       "      <td>12</td>\n",
       "      <td>France</td>\n",
       "    </tr>\n",
       "    <tr>\n",
       "      <th>1</th>\n",
       "      <td>10248</td>\n",
       "      <td>9.8</td>\n",
       "      <td>10</td>\n",
       "      <td>France</td>\n",
       "    </tr>\n",
       "    <tr>\n",
       "      <th>2</th>\n",
       "      <td>10248</td>\n",
       "      <td>34.8</td>\n",
       "      <td>5</td>\n",
       "      <td>France</td>\n",
       "    </tr>\n",
       "    <tr>\n",
       "      <th>3</th>\n",
       "      <td>10249</td>\n",
       "      <td>18.6</td>\n",
       "      <td>9</td>\n",
       "      <td>Germany</td>\n",
       "    </tr>\n",
       "    <tr>\n",
       "      <th>4</th>\n",
       "      <td>10249</td>\n",
       "      <td>42.4</td>\n",
       "      <td>40</td>\n",
       "      <td>Germany</td>\n",
       "    </tr>\n",
       "  </tbody>\n",
       "</table>\n",
       "</div>"
      ],
      "text/plain": [
       "   OrderId  UnitPrice  Quantity  Country\n",
       "0    10248       14.0        12   France\n",
       "1    10248        9.8        10   France\n",
       "2    10248       34.8         5   France\n",
       "3    10249       18.6         9  Germany\n",
       "4    10249       42.4        40  Germany"
      ]
     },
     "execution_count": 29,
     "metadata": {},
     "output_type": "execute_result"
    }
   ],
   "source": [
    "con = engine.connect()\n",
    "rs = con.execute(\"SELECT * FROM [OrderDetail] JOIN [Order] ON [Order].Id = OrderDetail.OrderId JOIN Customer ON Customer.Id = [Order].CustomerId\")\n",
    "df_Countries = pd.DataFrame(rs.fetchall()) \n",
    "df_Countries.columns = rs.keys()\n",
    "df4 = df_Countries[['OrderId', 'UnitPrice', 'Quantity', 'Country']]\n",
    "df4.head()"
   ]
  },
  {
   "cell_type": "code",
   "execution_count": 30,
   "metadata": {},
   "outputs": [],
   "source": [
    "# Add \"Total\" column, which is the total price of all products purchased for each order\n",
    "all_orders = df4['OrderId'].unique()\n",
    "\n",
    "for order in list(all_orders):\n",
    "    sum_list = []\n",
    "    y = list(df4.loc[df4['OrderId'] == int(order), 'UnitPrice'].index)\n",
    "    z = len(df4.loc[df4['OrderId'] == order])\n",
    "    for i in list(range(y[0],y[0]+z)):\n",
    "        x = (df4.loc[df4['OrderId'] == int(order), 'UnitPrice'][i])*(df4.loc[df4['OrderId'] == int(order), 'Quantity'][i])\n",
    "        sum_list.append(x)\n",
    "        df4.loc[df4['OrderId'] == order, 'Total'] = sum(sum_list)"
   ]
  },
  {
   "cell_type": "code",
   "execution_count": 31,
   "metadata": {},
   "outputs": [
    {
     "data": {
      "text/plain": [
       "[('France', 'Germany'),\n",
       " ('France', 'Brazil'),\n",
       " ('France', 'Venezuela'),\n",
       " ('France', 'Austria'),\n",
       " ('France', 'USA'),\n",
       " ('France', 'Sweden'),\n",
       " ('France', 'UK'),\n",
       " ('France', 'Canada'),\n",
       " ('Germany', 'Brazil'),\n",
       " ('Germany', 'Venezuela'),\n",
       " ('Germany', 'Austria'),\n",
       " ('Germany', 'USA'),\n",
       " ('Germany', 'Sweden'),\n",
       " ('Germany', 'UK'),\n",
       " ('Germany', 'Canada'),\n",
       " ('Brazil', 'Venezuela'),\n",
       " ('Brazil', 'Austria'),\n",
       " ('Brazil', 'USA'),\n",
       " ('Brazil', 'Sweden'),\n",
       " ('Brazil', 'UK'),\n",
       " ('Brazil', 'Canada'),\n",
       " ('Venezuela', 'Austria'),\n",
       " ('Venezuela', 'USA'),\n",
       " ('Venezuela', 'Sweden'),\n",
       " ('Venezuela', 'UK'),\n",
       " ('Venezuela', 'Canada'),\n",
       " ('Austria', 'USA'),\n",
       " ('Austria', 'Sweden'),\n",
       " ('Austria', 'UK'),\n",
       " ('Austria', 'Canada'),\n",
       " ('USA', 'Sweden'),\n",
       " ('USA', 'UK'),\n",
       " ('USA', 'Canada'),\n",
       " ('Sweden', 'UK'),\n",
       " ('Sweden', 'Canada'),\n",
       " ('UK', 'Canada')]"
      ]
     },
     "execution_count": 31,
     "metadata": {},
     "output_type": "execute_result"
    }
   ],
   "source": [
    "# Remove countries with less than 30 orders, and create a list of all combinations of remaining countries\n",
    "countries = df4['Country'].unique()\n",
    "final_countries = []\n",
    "df4 = df4[['OrderId', 'Country', 'Total']]\n",
    "df4.drop_duplicates(inplace=True)\n",
    "for country in countries:\n",
    "    if len(df4.loc[df4['Country'] == country]) > 29:\n",
    "        final_countries.append(country)\n",
    "            \n",
    "df4 = df4.loc[df4['Country'].isin(final_countries)]\n",
    "combs_countries = list(combinations(final_countries, 2))\n",
    "combs_countries"
   ]
  },
  {
   "cell_type": "markdown",
   "metadata": {},
   "source": [
    "#### 5.3 Welch's T-Test"
   ]
  },
  {
   "cell_type": "code",
   "execution_count": 32,
   "metadata": {},
   "outputs": [
    {
     "data": {
      "text/html": [
       "<div>\n",
       "<style scoped>\n",
       "    .dataframe tbody tr th:only-of-type {\n",
       "        vertical-align: middle;\n",
       "    }\n",
       "\n",
       "    .dataframe tbody tr th {\n",
       "        vertical-align: top;\n",
       "    }\n",
       "\n",
       "    .dataframe thead th {\n",
       "        text-align: right;\n",
       "    }\n",
       "</style>\n",
       "<table border=\"1\" class=\"dataframe\">\n",
       "  <thead>\n",
       "    <tr style=\"text-align: right;\">\n",
       "      <th></th>\n",
       "      <th>Comparison</th>\n",
       "      <th>T-Test Statistic</th>\n",
       "      <th>T-Test P-Value</th>\n",
       "      <th>First Average Quantity</th>\n",
       "      <th>Second Average Quantity</th>\n",
       "    </tr>\n",
       "  </thead>\n",
       "  <tbody>\n",
       "    <tr>\n",
       "      <th>54</th>\n",
       "      <td>Austria vs. USA</td>\n",
       "      <td>2.947</td>\n",
       "      <td>0.004</td>\n",
       "      <td>3487.4</td>\n",
       "      <td>2160.4</td>\n",
       "    </tr>\n",
       "    <tr>\n",
       "      <th>56</th>\n",
       "      <td>Austria vs. UK</td>\n",
       "      <td>5.836</td>\n",
       "      <td>0.0</td>\n",
       "      <td>3487.4</td>\n",
       "      <td>1082.4</td>\n",
       "    </tr>\n",
       "    <tr>\n",
       "      <th>57</th>\n",
       "      <td>Austria vs. Canada</td>\n",
       "      <td>2.959</td>\n",
       "      <td>0.004</td>\n",
       "      <td>3487.4</td>\n",
       "      <td>1844.5</td>\n",
       "    </tr>\n",
       "    <tr>\n",
       "      <th>55</th>\n",
       "      <td>Austria vs. Sweden</td>\n",
       "      <td>4.166</td>\n",
       "      <td>0.0</td>\n",
       "      <td>3487.4</td>\n",
       "      <td>1608.7</td>\n",
       "    </tr>\n",
       "    <tr>\n",
       "      <th>59</th>\n",
       "      <td>USA vs. UK</td>\n",
       "      <td>4.056</td>\n",
       "      <td>0.0</td>\n",
       "      <td>2160.4</td>\n",
       "      <td>1082.4</td>\n",
       "    </tr>\n",
       "    <tr>\n",
       "      <th>41</th>\n",
       "      <td>Germany vs. UK</td>\n",
       "      <td>3.507</td>\n",
       "      <td>0.001</td>\n",
       "      <td>2005.3</td>\n",
       "      <td>1082.4</td>\n",
       "    </tr>\n",
       "    <tr>\n",
       "      <th>38</th>\n",
       "      <td>Germany vs. Austria</td>\n",
       "      <td>-3.303</td>\n",
       "      <td>0.002</td>\n",
       "      <td>2005.3</td>\n",
       "      <td>3487.4</td>\n",
       "    </tr>\n",
       "    <tr>\n",
       "      <th>37</th>\n",
       "      <td>Germany vs. Venezuela</td>\n",
       "      <td>2.621</td>\n",
       "      <td>0.01</td>\n",
       "      <td>2005.3</td>\n",
       "      <td>1322.1</td>\n",
       "    </tr>\n",
       "    <tr>\n",
       "      <th>36</th>\n",
       "      <td>Germany vs. Brazil</td>\n",
       "      <td>2.478</td>\n",
       "      <td>0.014</td>\n",
       "      <td>2005.3</td>\n",
       "      <td>1210.6</td>\n",
       "    </tr>\n",
       "    <tr>\n",
       "      <th>49</th>\n",
       "      <td>Venezuela vs. Austria</td>\n",
       "      <td>-5.275</td>\n",
       "      <td>0.0</td>\n",
       "      <td>1322.1</td>\n",
       "      <td>3487.4</td>\n",
       "    </tr>\n",
       "    <tr>\n",
       "      <th>50</th>\n",
       "      <td>Venezuela vs. USA</td>\n",
       "      <td>-3.184</td>\n",
       "      <td>0.002</td>\n",
       "      <td>1322.1</td>\n",
       "      <td>2160.4</td>\n",
       "    </tr>\n",
       "    <tr>\n",
       "      <th>44</th>\n",
       "      <td>Brazil vs. Austria</td>\n",
       "      <td>-5.048</td>\n",
       "      <td>0.0</td>\n",
       "      <td>1210.6</td>\n",
       "      <td>3487.4</td>\n",
       "    </tr>\n",
       "    <tr>\n",
       "      <th>45</th>\n",
       "      <td>Brazil vs. USA</td>\n",
       "      <td>-2.942</td>\n",
       "      <td>0.004</td>\n",
       "      <td>1210.6</td>\n",
       "      <td>2160.4</td>\n",
       "    </tr>\n",
       "    <tr>\n",
       "      <th>28</th>\n",
       "      <td>France vs. Germany</td>\n",
       "      <td>-3.222</td>\n",
       "      <td>0.002</td>\n",
       "      <td>1149.1</td>\n",
       "      <td>2005.3</td>\n",
       "    </tr>\n",
       "    <tr>\n",
       "      <th>32</th>\n",
       "      <td>France vs. USA</td>\n",
       "      <td>-3.768</td>\n",
       "      <td>0.0</td>\n",
       "      <td>1149.1</td>\n",
       "      <td>2160.4</td>\n",
       "    </tr>\n",
       "    <tr>\n",
       "      <th>31</th>\n",
       "      <td>France vs. Austria</td>\n",
       "      <td>-5.651</td>\n",
       "      <td>0.0</td>\n",
       "      <td>1149.1</td>\n",
       "      <td>3487.4</td>\n",
       "    </tr>\n",
       "  </tbody>\n",
       "</table>\n",
       "</div>"
      ],
      "text/plain": [
       "               Comparison T-Test Statistic T-Test P-Value  \\\n",
       "54        Austria vs. USA            2.947          0.004   \n",
       "56         Austria vs. UK            5.836            0.0   \n",
       "57     Austria vs. Canada            2.959          0.004   \n",
       "55     Austria vs. Sweden            4.166            0.0   \n",
       "59             USA vs. UK            4.056            0.0   \n",
       "41         Germany vs. UK            3.507          0.001   \n",
       "38    Germany vs. Austria           -3.303          0.002   \n",
       "37  Germany vs. Venezuela            2.621           0.01   \n",
       "36     Germany vs. Brazil            2.478          0.014   \n",
       "49  Venezuela vs. Austria           -5.275            0.0   \n",
       "50      Venezuela vs. USA           -3.184          0.002   \n",
       "44     Brazil vs. Austria           -5.048            0.0   \n",
       "45         Brazil vs. USA           -2.942          0.004   \n",
       "28     France vs. Germany           -3.222          0.002   \n",
       "32         France vs. USA           -3.768            0.0   \n",
       "31     France vs. Austria           -5.651            0.0   \n",
       "\n",
       "   First Average Quantity Second Average Quantity  \n",
       "54                 3487.4                  2160.4  \n",
       "56                 3487.4                  1082.4  \n",
       "57                 3487.4                  1844.5  \n",
       "55                 3487.4                  1608.7  \n",
       "59                 2160.4                  1082.4  \n",
       "41                 2005.3                  1082.4  \n",
       "38                 2005.3                  3487.4  \n",
       "37                 2005.3                  1322.1  \n",
       "36                 2005.3                  1210.6  \n",
       "49                 1322.1                  3487.4  \n",
       "50                 1322.1                  2160.4  \n",
       "44                 1210.6                  3487.4  \n",
       "45                 1210.6                  2160.4  \n",
       "28                 1149.1                  2005.3  \n",
       "32                 1149.1                  2160.4  \n",
       "31                 1149.1                  3487.4  "
      ]
     },
     "execution_count": 32,
     "metadata": {},
     "output_type": "execute_result"
    }
   ],
   "source": [
    "# Create dataframe to hold results\n",
    "df_comparison = pd.DataFrame(columns=('Comparison', 'T-Test Statistic', 'T-Test P-Value', 'First Average Quantity', 'Second Average Quantity'))\n",
    "\n",
    "for comb in combs_countries:\n",
    "    \n",
    "    # Create Country1 dataset\n",
    "    df_Country1 = df4.loc[df4['Country'] == comb[0]]\n",
    "    \n",
    "    # Create Country2 dataset\n",
    "    df_Country2 = df4.loc[df4['Country'] == comb[1]]\n",
    "    \n",
    "    # Run Welch's t-test for each combination of countries\n",
    "    welch = list(stat.ttest_ind(df_Country1['Total'],df_Country2['Total'], equal_var=False))\n",
    "    T_test_stat = str(round(welch[0],3))\n",
    "    T_test_p = str(round(welch[1],3))    \n",
    "    \n",
    "    # Calculate average order total for each country\n",
    "    Avg1 = round(sum(df_Country1['Total'])/len(df_Country1),1)\n",
    "    Avg2 = round(sum(df_Country2['Total'])/len(df_Country2),1)\n",
    "    \n",
    "    # Add statistics to results dataframe\n",
    "    Col = str(comb[0]) + ' vs. ' + str(comb[1])\n",
    "    row = np.array([Col, T_test_stat, T_test_p, Avg1, Avg2])\n",
    "    df_comparison.loc[index] = row\n",
    "    index += 1\n",
    "    \n",
    "df_comparison.sort_values(by=['First Average Quantity'], inplace=True, ascending=False)\n",
    "df_comparison.loc[df_comparison['T-Test P-Value'].astype(float) < 0.05]"
   ]
  },
  {
   "cell_type": "markdown",
   "metadata": {},
   "source": [
    "#### 5.4 Results"
   ]
  },
  {
   "cell_type": "markdown",
   "metadata": {},
   "source": [
    "Using Welch's t-test, we were able to determine that there are 16 country pairs that have statistically significant differences in order total means at 0.05 level. Countries such as Austria, USA, Germany higher order total means and countries such as France, Brazil, and Venezuela have lower order total means when compared to most other countries."
   ]
  },
  {
   "cell_type": "markdown",
   "metadata": {},
   "source": [
    "\n",
    "***\n",
    "***\n",
    "<br>"
   ]
  },
  {
   "cell_type": "markdown",
   "metadata": {},
   "source": [
    "# 6. Conclusion"
   ]
  },
  {
   "cell_type": "markdown",
   "metadata": {},
   "source": [
    "Through our various hypotheses tests, we were able to come to the following conclusions:\n",
    "1. There is a statistically significant relationship between quantity and discount of an order. Furthermore, there is a statistically significant difference between the mean quantity of orders with a discount of 5%, 15%, 20%, and 25% and mean quantity of orders without a discount.\n",
    "<br>\n",
    "\n",
    "2. There is a statistically significant relationship between quantity and category when comparing datasets of the following categories:\n",
    "\n",
    "        1.Beverages vs. Condiments\n",
    "        2.Confections vs. Grains/Cereals\n",
    "        3.Dairy Products vs. Grains/Cereals\n",
    "        4.Confections vs. Dairy Products\n",
    "\n",
    "    There is, however, no difference in means of the quanitity of an order when comparing product categories.\n",
    "<br>\n",
    "\n",
    "3. There is no statistically significant difference between the mean order total for orders placed in the Americas vs. orders placed in Europe.\n",
    "<br>\n",
    "\n",
    "4. There are 16 country pairs that have statistically significant differences in order total means. Countries such as Austria, USA, Germany have higher order total means when compared to countries such as France, Brazil, and Venezuela.\n",
    "<br>\n",
    "***\n",
    "To further expand on the research performed in this notebook, the following questions should be explored:\n",
    "1. What is the relationship we found between the categories in Question 2? Are customers more likely to buy these products together, or separately?\n",
    "<br>\n",
    "\n",
    "2. Does the effect of percentage of discount on quantity or order total differ by country?\n",
    "<br>\n",
    "\n",
    "3. Are customers from different countries more likely to purchase products from certain categories than others?"
   ]
  }
 ],
 "metadata": {
  "kernelspec": {
   "display_name": "Python 3",
   "language": "python",
   "name": "python3"
  },
  "language_info": {
   "codemirror_mode": {
    "name": "ipython",
    "version": 3
   },
   "file_extension": ".py",
   "mimetype": "text/x-python",
   "name": "python",
   "nbconvert_exporter": "python",
   "pygments_lexer": "ipython3",
   "version": "3.7.0"
  }
 },
 "nbformat": 4,
 "nbformat_minor": 2
}
